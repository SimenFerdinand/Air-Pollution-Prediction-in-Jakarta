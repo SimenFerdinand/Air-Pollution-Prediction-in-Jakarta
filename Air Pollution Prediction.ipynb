{
 "cells": [
  {
   "cell_type": "markdown",
   "id": "b9820e00",
   "metadata": {
    "id": "b9820e00"
   },
   "source": [
    "### Indeks Standar Pencemaran Udara (ISPU) Tahun 2020\n",
    "\n",
    "- Link : https://data.jakarta.go.id/dataset/indeks-standar-pencemaran-udara-ispu-tahun-2020\n",
    "1. tanggal : Tanggal pengukuran kualitas udara\n",
    "2. stasiun : Lokasi pengukuran di stasiun\n",
    "3. pm10 : Partikulat salah satu parameter yang diukur\n",
    "4. so2 : Sulfida (dalam bentuk SO2) salah satu parameter yang diukur\n",
    "5. co : Carbon Monoksida salah satu parameter yand diukur\n",
    "6. o3 : Ozon salah satu parameter yang diukur\n",
    "7. no2 : NItrogen dioksida salah satu parameter yang diukur\n",
    "8. max : Nilai ukur paling tinggi dari seluruh parameter yang diukur dalam waktu yang sama\n",
    "9. critical : Parameter yang hasil pengukurannya paling tinggi\n",
    "10. categori : Kategori hasil perhitungan indeks standar pencemaran udara"
   ]
  },
  {
   "cell_type": "code",
   "execution_count": 1,
   "id": "ca67cf7a",
   "metadata": {},
   "outputs": [
    {
     "name": "stdout",
     "output_type": "stream",
     "text": [
      "Requirement already satisfied: imbalanced-learn in c:\\users\\asus\\anaconda3\\lib\\site-packages (0.11.0)\n",
      "Requirement already satisfied: scipy>=1.5.0 in c:\\users\\asus\\anaconda3\\lib\\site-packages (from imbalanced-learn) (1.9.1)\n",
      "Requirement already satisfied: scikit-learn>=1.0.2 in c:\\users\\asus\\anaconda3\\lib\\site-packages (from imbalanced-learn) (1.0.2)\n",
      "Requirement already satisfied: threadpoolctl>=2.0.0 in c:\\users\\asus\\anaconda3\\lib\\site-packages (from imbalanced-learn) (2.2.0)\n",
      "Requirement already satisfied: numpy>=1.17.3 in c:\\users\\asus\\anaconda3\\lib\\site-packages (from imbalanced-learn) (1.23.5)\n",
      "Requirement already satisfied: joblib>=1.1.1 in c:\\users\\asus\\anaconda3\\lib\\site-packages (from imbalanced-learn) (1.3.2)\n",
      "Note: you may need to restart the kernel to use updated packages.\n"
     ]
    }
   ],
   "source": [
    "pip install imbalanced-learn\n"
   ]
  },
  {
   "cell_type": "markdown",
   "id": "a74b61e1",
   "metadata": {
    "id": "a74b61e1"
   },
   "source": [
    "### 1. Importing the required libraries"
   ]
  },
  {
   "cell_type": "code",
   "execution_count": 2,
   "id": "644d9afb",
   "metadata": {
    "id": "644d9afb"
   },
   "outputs": [],
   "source": [
    "import pandas as pd\n",
    "import numpy as np\n",
    "import seaborn as sns\n",
    "import matplotlib.pyplot as plt\n",
    "from datetime import datetime\n",
    "%matplotlib inline\n",
    "sns.set(color_codes = True)\n",
    "\n",
    "from pandas.plotting import scatter_matrix\n",
    "from sklearn.preprocessing import StandardScaler\n",
    "from sklearn.model_selection import train_test_split, GridSearchCV, cross_val_score, RepeatedStratifiedKFold, cross_validate\n",
    "from sklearn.neighbors import KNeighborsClassifier\n",
    "from sklearn.svm import SVC\n",
    "\n",
    "from sklearn.linear_model import LogisticRegression\n",
    "from sklearn.tree import DecisionTreeClassifier\n",
    "from sklearn.neighbors import KNeighborsClassifier\n",
    "from sklearn.svm import SVC\n",
    "from sklearn.ensemble import VotingClassifier, BaggingClassifier, AdaBoostClassifier, RandomForestClassifier\n",
    "\n",
    "from collections import Counter\n",
    "from imblearn.combine import SMOTETomek\n",
    "from imblearn.under_sampling import TomekLinks\n",
    "from imblearn.pipeline import Pipeline\n",
    "import imblearn\n",
    "\n",
    "from sklearn.metrics import confusion_matrix\n",
    "from sklearn import metrics\n",
    "from sklearn.metrics import classification_report\n",
    "import warnings\n",
    "warnings.filterwarnings('ignore')\n",
    "%matplotlib inline"
   ]
  },
  {
   "cell_type": "markdown",
   "id": "522b2f15",
   "metadata": {
    "id": "522b2f15"
   },
   "source": [
    "### 2. Loading the data into the data frame"
   ]
  },
  {
   "cell_type": "code",
   "execution_count": 3,
   "id": "mTOj6UFdlOMC",
   "metadata": {
    "id": "mTOj6UFdlOMC"
   },
   "outputs": [],
   "source": [
    "# read csv data\n",
    "ispu_jan = pd.read_csv('indeks-standar-pencemar-udara-di-provinsi-dki-jakarta-bulan-januari-tahun-2020.csv')\n",
    "ispu_jan2 = pd.read_csv('indeks-standar-pencemar-udara-di-spku-bulan-januari-tahun-2020.csv')\n",
    "ispu_feb = pd.read_csv('indeks-standar-pencemar-udara-di-provinsi-dki-jakarta-bulan-februari-tahun-2020.csv')\n",
    "ispu_feb2 = pd.read_csv('indeks-standar-pencemar-udara-di-spku-bulan-februari-tahun-2020.csv')\n",
    "ispu_mar = pd.read_csv('indeks-standar-pencemar-udara-di-provinsi-dki-jakarta-bulan-maret-tahun-2020.csv')\n",
    "ispu_mar2 = pd.read_csv('indeks-standar-pencemar-udara-di-spku-bulan-maret-tahun-2020.csv')\n",
    "ispu_apr = pd.read_csv('indeks-standar-pencemar-udara-di-provinsi-dki-jakarta-bulan-april-tahun-2020.csv')\n",
    "ispu_apr2 = pd.read_csv('indeks-standar-pencemar-udara-di-spku-bulan-april-tahun-2020.csv')\n",
    "ispu_mei = pd.read_csv('indeks-standar-pencemar-udara-di-provinsi-dki-jakarta-bulan-mei-tahun-2020.csv')\n",
    "ispu_mei2 = pd.read_csv('indeks-standar-pencemar-udara-di-spku-bulan-mei-tahun-2020.csv')\n",
    "ispu_jun = pd.read_csv('indeks-standar-pencemar-udara-di-provinsi-dki-jakarta-bulan-juni-tahun-2020.csv')\n",
    "ispu_jun2 = pd.read_csv('indeks-standar-pencemar-udara-di-spku-bulan-juni-tahun-2020.csv')\n",
    "ispu_jul = pd.read_csv('indeks-standar-pencemar-udara-di-provinsi-dki-jakarta-bulan-juli-tahun-2020.csv')\n",
    "ispu_jul2 = pd.read_csv('indeks-standar-pencemar-udara-di-spku-bulan-juli-tahun-2020.csv')\n",
    "ispu_ags = pd.read_csv('indeks-standar-pencemar-udara-di-provinsi-dki-jakarta-bulan-agustus-tahun-2020.csv')\n",
    "ispu_ags2 = pd.read_csv('indeks-standar-pencemar-udara-di-spku-bulan-agustus-tahun-2020.csv')\n",
    "ispu_sep = pd.read_csv('indeks-standar-pencemar-udara-di-spku-bulan-september-tahun-2020.csv')\n",
    "ispu_okt = pd.read_csv('indeks-standar-pencemar-udara-di-spku-bulan-oktober-tahun-2020.csv')\n",
    "ispu_nov = pd.read_csv('indeks-standar-pencemar-udara-di-spku-bulan-november-tahun-2020.csv')\n",
    "ispu_des = pd.read_csv('indeks-standar-pencemar-udara-di-spku-bulan-desember-tahun-2020.csv')"
   ]
  },
  {
   "cell_type": "markdown",
   "id": "Fly7RismmFI_",
   "metadata": {
    "id": "Fly7RismmFI_"
   },
   "source": [
    "dikarenakan dari bulan september sampai Desember hanya memiliki satu jenis data ispu, maka mau tidak mau harus menggunakan satu jenis data di bulan bulan sebelumnya, yaitu januari sampai agustus untuk digabung datanya dengan data bulan september sampai desember"
   ]
  },
  {
   "cell_type": "markdown",
   "id": "MyAu6Sh9myUU",
   "metadata": {
    "id": "MyAu6Sh9myUU"
   },
   "source": [
    "pertama dek dulu data dari bulan september sampai desember, hanya mengecek nama kolomnya saja"
   ]
  },
  {
   "cell_type": "code",
   "execution_count": 4,
   "id": "LdOW5CfYlrai",
   "metadata": {
    "colab": {
     "base_uri": "https://localhost:8080/",
     "height": 273
    },
    "id": "LdOW5CfYlrai",
    "outputId": "a85d8e97-094f-436e-d8f2-73cdbd72fb9e"
   },
   "outputs": [
    {
     "data": {
      "text/html": [
       "<div>\n",
       "<style scoped>\n",
       "    .dataframe tbody tr th:only-of-type {\n",
       "        vertical-align: middle;\n",
       "    }\n",
       "\n",
       "    .dataframe tbody tr th {\n",
       "        vertical-align: top;\n",
       "    }\n",
       "\n",
       "    .dataframe thead th {\n",
       "        text-align: right;\n",
       "    }\n",
       "</style>\n",
       "<table border=\"1\" class=\"dataframe\">\n",
       "  <thead>\n",
       "    <tr style=\"text-align: right;\">\n",
       "      <th></th>\n",
       "      <th>tanggal</th>\n",
       "      <th>stasiun</th>\n",
       "      <th>pm10</th>\n",
       "      <th>so2</th>\n",
       "      <th>co</th>\n",
       "      <th>o3</th>\n",
       "      <th>no2</th>\n",
       "      <th>max</th>\n",
       "      <th>critical</th>\n",
       "      <th>categori</th>\n",
       "    </tr>\n",
       "  </thead>\n",
       "  <tbody>\n",
       "    <tr>\n",
       "      <th>0</th>\n",
       "      <td>2020-09-01</td>\n",
       "      <td>DKI1 (Bunderan HI)</td>\n",
       "      <td>63</td>\n",
       "      <td>20</td>\n",
       "      <td>6</td>\n",
       "      <td>60</td>\n",
       "      <td>11</td>\n",
       "      <td>84</td>\n",
       "      <td>PM25</td>\n",
       "      <td>SEDANG</td>\n",
       "    </tr>\n",
       "  </tbody>\n",
       "</table>\n",
       "</div>"
      ],
      "text/plain": [
       "      tanggal             stasiun pm10 so2 co  o3 no2  max critical categori\n",
       "0  2020-09-01  DKI1 (Bunderan HI)   63  20  6  60  11   84     PM25   SEDANG"
      ]
     },
     "metadata": {},
     "output_type": "display_data"
    },
    {
     "data": {
      "text/html": [
       "<div>\n",
       "<style scoped>\n",
       "    .dataframe tbody tr th:only-of-type {\n",
       "        vertical-align: middle;\n",
       "    }\n",
       "\n",
       "    .dataframe tbody tr th {\n",
       "        vertical-align: top;\n",
       "    }\n",
       "\n",
       "    .dataframe thead th {\n",
       "        text-align: right;\n",
       "    }\n",
       "</style>\n",
       "<table border=\"1\" class=\"dataframe\">\n",
       "  <thead>\n",
       "    <tr style=\"text-align: right;\">\n",
       "      <th></th>\n",
       "      <th>tanggal</th>\n",
       "      <th>stasiun</th>\n",
       "      <th>pm10</th>\n",
       "      <th>so2</th>\n",
       "      <th>co</th>\n",
       "      <th>o3</th>\n",
       "      <th>no2</th>\n",
       "      <th>max</th>\n",
       "      <th>critical</th>\n",
       "      <th>categori</th>\n",
       "    </tr>\n",
       "  </thead>\n",
       "  <tbody>\n",
       "    <tr>\n",
       "      <th>0</th>\n",
       "      <td>2020-10-01</td>\n",
       "      <td>DKI1 (Bunderan HI)</td>\n",
       "      <td>50</td>\n",
       "      <td>19</td>\n",
       "      <td>4</td>\n",
       "      <td>50</td>\n",
       "      <td>10</td>\n",
       "      <td>72.0</td>\n",
       "      <td>PM25</td>\n",
       "      <td>SEDANG</td>\n",
       "    </tr>\n",
       "  </tbody>\n",
       "</table>\n",
       "</div>"
      ],
      "text/plain": [
       "      tanggal             stasiun pm10 so2 co  o3 no2   max critical categori\n",
       "0  2020-10-01  DKI1 (Bunderan HI)   50  19  4  50  10  72.0     PM25   SEDANG"
      ]
     },
     "metadata": {},
     "output_type": "display_data"
    },
    {
     "data": {
      "text/html": [
       "<div>\n",
       "<style scoped>\n",
       "    .dataframe tbody tr th:only-of-type {\n",
       "        vertical-align: middle;\n",
       "    }\n",
       "\n",
       "    .dataframe tbody tr th {\n",
       "        vertical-align: top;\n",
       "    }\n",
       "\n",
       "    .dataframe thead th {\n",
       "        text-align: right;\n",
       "    }\n",
       "</style>\n",
       "<table border=\"1\" class=\"dataframe\">\n",
       "  <thead>\n",
       "    <tr style=\"text-align: right;\">\n",
       "      <th></th>\n",
       "      <th>tanggal</th>\n",
       "      <th>stasiun</th>\n",
       "      <th>pm10</th>\n",
       "      <th>so2</th>\n",
       "      <th>co</th>\n",
       "      <th>o3</th>\n",
       "      <th>no2</th>\n",
       "      <th>max</th>\n",
       "      <th>critical</th>\n",
       "      <th>categori</th>\n",
       "    </tr>\n",
       "  </thead>\n",
       "  <tbody>\n",
       "    <tr>\n",
       "      <th>0</th>\n",
       "      <td>01/11/2020</td>\n",
       "      <td>DKI1 (Bunderan HI)</td>\n",
       "      <td>49</td>\n",
       "      <td>67</td>\n",
       "      <td>18</td>\n",
       "      <td>10</td>\n",
       "      <td>40</td>\n",
       "      <td>11</td>\n",
       "      <td>PM25</td>\n",
       "      <td>SEDANG</td>\n",
       "    </tr>\n",
       "  </tbody>\n",
       "</table>\n",
       "</div>"
      ],
      "text/plain": [
       "      tanggal             stasiun pm10  so2  co  o3  no2  max critical  \\\n",
       "0  01/11/2020  DKI1 (Bunderan HI)   49   67  18  10   40   11     PM25   \n",
       "\n",
       "  categori  \n",
       "0   SEDANG  "
      ]
     },
     "metadata": {},
     "output_type": "display_data"
    },
    {
     "data": {
      "text/html": [
       "<div>\n",
       "<style scoped>\n",
       "    .dataframe tbody tr th:only-of-type {\n",
       "        vertical-align: middle;\n",
       "    }\n",
       "\n",
       "    .dataframe tbody tr th {\n",
       "        vertical-align: top;\n",
       "    }\n",
       "\n",
       "    .dataframe thead th {\n",
       "        text-align: right;\n",
       "    }\n",
       "</style>\n",
       "<table border=\"1\" class=\"dataframe\">\n",
       "  <thead>\n",
       "    <tr style=\"text-align: right;\">\n",
       "      <th></th>\n",
       "      <th>tanggal</th>\n",
       "      <th>stasiun</th>\n",
       "      <th>pm10</th>\n",
       "      <th>so2</th>\n",
       "      <th>co</th>\n",
       "      <th>o3</th>\n",
       "      <th>no2</th>\n",
       "      <th>max</th>\n",
       "      <th>critical</th>\n",
       "      <th>categori</th>\n",
       "    </tr>\n",
       "  </thead>\n",
       "  <tbody>\n",
       "    <tr>\n",
       "      <th>0</th>\n",
       "      <td>2020-12-01</td>\n",
       "      <td>DKI1 (Bunderan HI)</td>\n",
       "      <td>22</td>\n",
       "      <td>17</td>\n",
       "      <td>4</td>\n",
       "      <td>19</td>\n",
       "      <td>8</td>\n",
       "      <td>26</td>\n",
       "      <td>PM25</td>\n",
       "      <td>BAIK</td>\n",
       "    </tr>\n",
       "  </tbody>\n",
       "</table>\n",
       "</div>"
      ],
      "text/plain": [
       "      tanggal             stasiun pm10 so2 co  o3 no2  max critical categori\n",
       "0  2020-12-01  DKI1 (Bunderan HI)   22  17  4  19   8   26     PM25     BAIK"
      ]
     },
     "metadata": {},
     "output_type": "display_data"
    }
   ],
   "source": [
    "display(ispu_sep.head(1), ispu_okt.head(1),ispu_nov.head(1), ispu_des.head(1))"
   ]
  },
  {
   "cell_type": "markdown",
   "id": "Zyo4GS73nguz",
   "metadata": {
    "id": "Zyo4GS73nguz"
   },
   "source": [
    "Setelah itu, cek data yang memiki dua jenis data, yaitu dari januari sampai agustus, kita cek mana jenis data yang memiliki nama kolom yang sama dengan data yang hanya satu jenis (September - Desember), pertama kita cek dulu jenis data pertama"
   ]
  },
  {
   "cell_type": "code",
   "execution_count": 5,
   "id": "lici79Oandme",
   "metadata": {
    "colab": {
     "base_uri": "https://localhost:8080/",
     "height": 529
    },
    "id": "lici79Oandme",
    "outputId": "3785c3ed-5297-4149-8e8e-9738da45215f"
   },
   "outputs": [
    {
     "data": {
      "text/html": [
       "<div>\n",
       "<style scoped>\n",
       "    .dataframe tbody tr th:only-of-type {\n",
       "        vertical-align: middle;\n",
       "    }\n",
       "\n",
       "    .dataframe tbody tr th {\n",
       "        vertical-align: top;\n",
       "    }\n",
       "\n",
       "    .dataframe thead th {\n",
       "        text-align: right;\n",
       "    }\n",
       "</style>\n",
       "<table border=\"1\" class=\"dataframe\">\n",
       "  <thead>\n",
       "    <tr style=\"text-align: right;\">\n",
       "      <th></th>\n",
       "      <th>tanggal</th>\n",
       "      <th>pm10</th>\n",
       "      <th>so2</th>\n",
       "      <th>co</th>\n",
       "      <th>o3</th>\n",
       "      <th>no2</th>\n",
       "      <th>max</th>\n",
       "      <th>critical</th>\n",
       "      <th>categori</th>\n",
       "      <th>lokasi_spku</th>\n",
       "    </tr>\n",
       "  </thead>\n",
       "  <tbody>\n",
       "    <tr>\n",
       "      <th>0</th>\n",
       "      <td>2020-01-01</td>\n",
       "      <td>38</td>\n",
       "      <td>36</td>\n",
       "      <td>25</td>\n",
       "      <td>46</td>\n",
       "      <td>9</td>\n",
       "      <td>46</td>\n",
       "      <td>O3</td>\n",
       "      <td>BAIK</td>\n",
       "      <td>DKI5</td>\n",
       "    </tr>\n",
       "  </tbody>\n",
       "</table>\n",
       "</div>"
      ],
      "text/plain": [
       "      tanggal  pm10  so2  co  o3  no2  max critical categori lokasi_spku\n",
       "0  2020-01-01    38   36  25  46    9   46       O3     BAIK        DKI5"
      ]
     },
     "metadata": {},
     "output_type": "display_data"
    },
    {
     "data": {
      "text/html": [
       "<div>\n",
       "<style scoped>\n",
       "    .dataframe tbody tr th:only-of-type {\n",
       "        vertical-align: middle;\n",
       "    }\n",
       "\n",
       "    .dataframe tbody tr th {\n",
       "        vertical-align: top;\n",
       "    }\n",
       "\n",
       "    .dataframe thead th {\n",
       "        text-align: right;\n",
       "    }\n",
       "</style>\n",
       "<table border=\"1\" class=\"dataframe\">\n",
       "  <thead>\n",
       "    <tr style=\"text-align: right;\">\n",
       "      <th></th>\n",
       "      <th>tanggal</th>\n",
       "      <th>pm10</th>\n",
       "      <th>so2</th>\n",
       "      <th>co</th>\n",
       "      <th>o3</th>\n",
       "      <th>no2</th>\n",
       "      <th>max</th>\n",
       "      <th>critical</th>\n",
       "      <th>categori</th>\n",
       "      <th>lokasi_spku</th>\n",
       "    </tr>\n",
       "  </thead>\n",
       "  <tbody>\n",
       "    <tr>\n",
       "      <th>0</th>\n",
       "      <td>2020-02-01</td>\n",
       "      <td>57</td>\n",
       "      <td>30</td>\n",
       "      <td>39</td>\n",
       "      <td>73</td>\n",
       "      <td>14</td>\n",
       "      <td>73</td>\n",
       "      <td>O3</td>\n",
       "      <td>SEDANG</td>\n",
       "      <td>DKI5</td>\n",
       "    </tr>\n",
       "  </tbody>\n",
       "</table>\n",
       "</div>"
      ],
      "text/plain": [
       "      tanggal  pm10  so2  co  o3  no2  max critical categori lokasi_spku\n",
       "0  2020-02-01    57   30  39  73   14   73       O3   SEDANG        DKI5"
      ]
     },
     "metadata": {},
     "output_type": "display_data"
    },
    {
     "data": {
      "text/html": [
       "<div>\n",
       "<style scoped>\n",
       "    .dataframe tbody tr th:only-of-type {\n",
       "        vertical-align: middle;\n",
       "    }\n",
       "\n",
       "    .dataframe tbody tr th {\n",
       "        vertical-align: top;\n",
       "    }\n",
       "\n",
       "    .dataframe thead th {\n",
       "        text-align: right;\n",
       "    }\n",
       "</style>\n",
       "<table border=\"1\" class=\"dataframe\">\n",
       "  <thead>\n",
       "    <tr style=\"text-align: right;\">\n",
       "      <th></th>\n",
       "      <th>tanggal</th>\n",
       "      <th>pm10</th>\n",
       "      <th>so2</th>\n",
       "      <th>co</th>\n",
       "      <th>o3</th>\n",
       "      <th>no2</th>\n",
       "      <th>max</th>\n",
       "      <th>critical</th>\n",
       "      <th>categori</th>\n",
       "      <th>lokasi_spku</th>\n",
       "    </tr>\n",
       "  </thead>\n",
       "  <tbody>\n",
       "    <tr>\n",
       "      <th>0</th>\n",
       "      <td>2020-03-02</td>\n",
       "      <td>22</td>\n",
       "      <td>---</td>\n",
       "      <td>35</td>\n",
       "      <td>213</td>\n",
       "      <td>11</td>\n",
       "      <td>213</td>\n",
       "      <td>4</td>\n",
       "      <td>O3</td>\n",
       "      <td>SANGAT TIDAK SEHAT</td>\n",
       "    </tr>\n",
       "  </tbody>\n",
       "</table>\n",
       "</div>"
      ],
      "text/plain": [
       "      tanggal  pm10  so2  co   o3  no2  max  critical categori  \\\n",
       "0  2020-03-02    22  ---  35  213   11  213         4       O3   \n",
       "\n",
       "          lokasi_spku  \n",
       "0  SANGAT TIDAK SEHAT  "
      ]
     },
     "metadata": {},
     "output_type": "display_data"
    },
    {
     "data": {
      "text/html": [
       "<div>\n",
       "<style scoped>\n",
       "    .dataframe tbody tr th:only-of-type {\n",
       "        vertical-align: middle;\n",
       "    }\n",
       "\n",
       "    .dataframe tbody tr th {\n",
       "        vertical-align: top;\n",
       "    }\n",
       "\n",
       "    .dataframe thead th {\n",
       "        text-align: right;\n",
       "    }\n",
       "</style>\n",
       "<table border=\"1\" class=\"dataframe\">\n",
       "  <thead>\n",
       "    <tr style=\"text-align: right;\">\n",
       "      <th></th>\n",
       "      <th>tanggal</th>\n",
       "      <th>pm10</th>\n",
       "      <th>so2</th>\n",
       "      <th>co</th>\n",
       "      <th>o3</th>\n",
       "      <th>no2</th>\n",
       "      <th>max</th>\n",
       "      <th>critical</th>\n",
       "      <th>categori</th>\n",
       "      <th>lokasi_spku</th>\n",
       "    </tr>\n",
       "  </thead>\n",
       "  <tbody>\n",
       "    <tr>\n",
       "      <th>0</th>\n",
       "      <td>2020-04-01</td>\n",
       "      <td>51</td>\n",
       "      <td>25</td>\n",
       "      <td>35</td>\n",
       "      <td>129</td>\n",
       "      <td>10</td>\n",
       "      <td>129</td>\n",
       "      <td>O3</td>\n",
       "      <td>TIDAK SEHAT</td>\n",
       "      <td>DKI5</td>\n",
       "    </tr>\n",
       "  </tbody>\n",
       "</table>\n",
       "</div>"
      ],
      "text/plain": [
       "      tanggal  pm10  so2  co   o3  no2  max critical     categori lokasi_spku\n",
       "0  2020-04-01    51   25  35  129   10  129       O3  TIDAK SEHAT        DKI5"
      ]
     },
     "metadata": {},
     "output_type": "display_data"
    },
    {
     "data": {
      "text/html": [
       "<div>\n",
       "<style scoped>\n",
       "    .dataframe tbody tr th:only-of-type {\n",
       "        vertical-align: middle;\n",
       "    }\n",
       "\n",
       "    .dataframe tbody tr th {\n",
       "        vertical-align: top;\n",
       "    }\n",
       "\n",
       "    .dataframe thead th {\n",
       "        text-align: right;\n",
       "    }\n",
       "</style>\n",
       "<table border=\"1\" class=\"dataframe\">\n",
       "  <thead>\n",
       "    <tr style=\"text-align: right;\">\n",
       "      <th></th>\n",
       "      <th>tanggal</th>\n",
       "      <th>pm10</th>\n",
       "      <th>so2</th>\n",
       "      <th>co</th>\n",
       "      <th>o3</th>\n",
       "      <th>no2</th>\n",
       "      <th>max</th>\n",
       "      <th>critical</th>\n",
       "      <th>categori</th>\n",
       "      <th>lokasi_spku</th>\n",
       "    </tr>\n",
       "  </thead>\n",
       "  <tbody>\n",
       "    <tr>\n",
       "      <th>0</th>\n",
       "      <td>2020-05-01</td>\n",
       "      <td>55</td>\n",
       "      <td>26</td>\n",
       "      <td>21</td>\n",
       "      <td>83</td>\n",
       "      <td>10</td>\n",
       "      <td>83</td>\n",
       "      <td>O3</td>\n",
       "      <td>SEDANG</td>\n",
       "      <td>DKI5</td>\n",
       "    </tr>\n",
       "  </tbody>\n",
       "</table>\n",
       "</div>"
      ],
      "text/plain": [
       "      tanggal  pm10  so2  co  o3  no2  max critical categori lokasi_spku\n",
       "0  2020-05-01    55   26  21  83   10   83       O3   SEDANG        DKI5"
      ]
     },
     "metadata": {},
     "output_type": "display_data"
    },
    {
     "data": {
      "text/html": [
       "<div>\n",
       "<style scoped>\n",
       "    .dataframe tbody tr th:only-of-type {\n",
       "        vertical-align: middle;\n",
       "    }\n",
       "\n",
       "    .dataframe tbody tr th {\n",
       "        vertical-align: top;\n",
       "    }\n",
       "\n",
       "    .dataframe thead th {\n",
       "        text-align: right;\n",
       "    }\n",
       "</style>\n",
       "<table border=\"1\" class=\"dataframe\">\n",
       "  <thead>\n",
       "    <tr style=\"text-align: right;\">\n",
       "      <th></th>\n",
       "      <th>tanggal</th>\n",
       "      <th>pm10</th>\n",
       "      <th>so2</th>\n",
       "      <th>co</th>\n",
       "      <th>o3</th>\n",
       "      <th>no2</th>\n",
       "      <th>max</th>\n",
       "      <th>critical</th>\n",
       "      <th>categori</th>\n",
       "      <th>lokasi_spku</th>\n",
       "    </tr>\n",
       "  </thead>\n",
       "  <tbody>\n",
       "    <tr>\n",
       "      <th>0</th>\n",
       "      <td>2020-06-01</td>\n",
       "      <td>61</td>\n",
       "      <td>23</td>\n",
       "      <td>22</td>\n",
       "      <td>69</td>\n",
       "      <td>10</td>\n",
       "      <td>69</td>\n",
       "      <td>O3</td>\n",
       "      <td>SEDANG</td>\n",
       "      <td>DKI5</td>\n",
       "    </tr>\n",
       "  </tbody>\n",
       "</table>\n",
       "</div>"
      ],
      "text/plain": [
       "      tanggal  pm10  so2  co  o3  no2  max critical categori lokasi_spku\n",
       "0  2020-06-01    61   23  22  69   10   69       O3   SEDANG        DKI5"
      ]
     },
     "metadata": {},
     "output_type": "display_data"
    },
    {
     "data": {
      "text/html": [
       "<div>\n",
       "<style scoped>\n",
       "    .dataframe tbody tr th:only-of-type {\n",
       "        vertical-align: middle;\n",
       "    }\n",
       "\n",
       "    .dataframe tbody tr th {\n",
       "        vertical-align: top;\n",
       "    }\n",
       "\n",
       "    .dataframe thead th {\n",
       "        text-align: right;\n",
       "    }\n",
       "</style>\n",
       "<table border=\"1\" class=\"dataframe\">\n",
       "  <thead>\n",
       "    <tr style=\"text-align: right;\">\n",
       "      <th></th>\n",
       "      <th>tanggal</th>\n",
       "      <th>pm10</th>\n",
       "      <th>so2</th>\n",
       "      <th>co</th>\n",
       "      <th>o3</th>\n",
       "      <th>no2</th>\n",
       "      <th>max</th>\n",
       "      <th>critical</th>\n",
       "      <th>categori</th>\n",
       "      <th>lokasi_spku</th>\n",
       "    </tr>\n",
       "  </thead>\n",
       "  <tbody>\n",
       "    <tr>\n",
       "      <th>0</th>\n",
       "      <td>2020-07-01</td>\n",
       "      <td>74</td>\n",
       "      <td>29</td>\n",
       "      <td>15</td>\n",
       "      <td>94</td>\n",
       "      <td>14</td>\n",
       "      <td>94</td>\n",
       "      <td>O3</td>\n",
       "      <td>SEDANG</td>\n",
       "      <td>DKI5</td>\n",
       "    </tr>\n",
       "  </tbody>\n",
       "</table>\n",
       "</div>"
      ],
      "text/plain": [
       "      tanggal  pm10  so2  co  o3  no2  max critical categori lokasi_spku\n",
       "0  2020-07-01    74   29  15  94   14   94       O3   SEDANG        DKI5"
      ]
     },
     "metadata": {},
     "output_type": "display_data"
    },
    {
     "data": {
      "text/html": [
       "<div>\n",
       "<style scoped>\n",
       "    .dataframe tbody tr th:only-of-type {\n",
       "        vertical-align: middle;\n",
       "    }\n",
       "\n",
       "    .dataframe tbody tr th {\n",
       "        vertical-align: top;\n",
       "    }\n",
       "\n",
       "    .dataframe thead th {\n",
       "        text-align: right;\n",
       "    }\n",
       "</style>\n",
       "<table border=\"1\" class=\"dataframe\">\n",
       "  <thead>\n",
       "    <tr style=\"text-align: right;\">\n",
       "      <th></th>\n",
       "      <th>tanggal</th>\n",
       "      <th>pm10</th>\n",
       "      <th>so2</th>\n",
       "      <th>co</th>\n",
       "      <th>o3</th>\n",
       "      <th>no2</th>\n",
       "      <th>max</th>\n",
       "      <th>critical</th>\n",
       "      <th>categori</th>\n",
       "      <th>lokasi_spku</th>\n",
       "    </tr>\n",
       "  </thead>\n",
       "  <tbody>\n",
       "    <tr>\n",
       "      <th>0</th>\n",
       "      <td>2020-08-01</td>\n",
       "      <td>69</td>\n",
       "      <td>22</td>\n",
       "      <td>16</td>\n",
       "      <td>134</td>\n",
       "      <td>14</td>\n",
       "      <td>134</td>\n",
       "      <td>O3</td>\n",
       "      <td>TIDAK SEHAT</td>\n",
       "      <td>DKI5</td>\n",
       "    </tr>\n",
       "  </tbody>\n",
       "</table>\n",
       "</div>"
      ],
      "text/plain": [
       "      tanggal  pm10  so2  co   o3  no2  max critical     categori lokasi_spku\n",
       "0  2020-08-01    69   22  16  134   14  134       O3  TIDAK SEHAT        DKI5"
      ]
     },
     "metadata": {},
     "output_type": "display_data"
    }
   ],
   "source": [
    "display(ispu_jan.head(1), ispu_feb.head(1),ispu_mar.head(1),\n",
    "        ispu_apr.head(1),ispu_mei.head(1),ispu_jun.head(1),\n",
    "        ispu_jul.head(1),ispu_ags.head(1))"
   ]
  },
  {
   "cell_type": "markdown",
   "id": "MyEWG2HQoie2",
   "metadata": {
    "id": "MyEWG2HQoie2"
   },
   "source": [
    "bisa dilihat, bahwa data jenis pertama menampilkan nama kolom akhir yang berbeda dengan data september sampai desember, yaitu kolom lokasi_spbu, sedangkan pada data september sampai desember kolom akhirnya adalah kolom categori, selanjutnya mari cek jenis data kedua"
   ]
  },
  {
   "cell_type": "code",
   "execution_count": 6,
   "id": "kshQPVuCpjYJ",
   "metadata": {
    "colab": {
     "base_uri": "https://localhost:8080/",
     "height": 529
    },
    "id": "kshQPVuCpjYJ",
    "outputId": "18332d8e-edb1-4e85-de94-626ba3027e18"
   },
   "outputs": [
    {
     "data": {
      "text/html": [
       "<div>\n",
       "<style scoped>\n",
       "    .dataframe tbody tr th:only-of-type {\n",
       "        vertical-align: middle;\n",
       "    }\n",
       "\n",
       "    .dataframe tbody tr th {\n",
       "        vertical-align: top;\n",
       "    }\n",
       "\n",
       "    .dataframe thead th {\n",
       "        text-align: right;\n",
       "    }\n",
       "</style>\n",
       "<table border=\"1\" class=\"dataframe\">\n",
       "  <thead>\n",
       "    <tr style=\"text-align: right;\">\n",
       "      <th></th>\n",
       "      <th>tanggal</th>\n",
       "      <th>stasiun</th>\n",
       "      <th>pm10</th>\n",
       "      <th>so2</th>\n",
       "      <th>co</th>\n",
       "      <th>o3</th>\n",
       "      <th>no2</th>\n",
       "      <th>max</th>\n",
       "      <th>critical</th>\n",
       "      <th>categori</th>\n",
       "    </tr>\n",
       "  </thead>\n",
       "  <tbody>\n",
       "    <tr>\n",
       "      <th>0</th>\n",
       "      <td>2020-01-01</td>\n",
       "      <td>DKI1 (Bunderan HI)</td>\n",
       "      <td>30</td>\n",
       "      <td>20</td>\n",
       "      <td>10</td>\n",
       "      <td>32</td>\n",
       "      <td>9</td>\n",
       "      <td>32</td>\n",
       "      <td>O3</td>\n",
       "      <td>BAIK</td>\n",
       "    </tr>\n",
       "  </tbody>\n",
       "</table>\n",
       "</div>"
      ],
      "text/plain": [
       "      tanggal             stasiun pm10 so2  co  o3 no2  max critical categori\n",
       "0  2020-01-01  DKI1 (Bunderan HI)   30  20  10  32   9   32       O3     BAIK"
      ]
     },
     "metadata": {},
     "output_type": "display_data"
    },
    {
     "data": {
      "text/html": [
       "<div>\n",
       "<style scoped>\n",
       "    .dataframe tbody tr th:only-of-type {\n",
       "        vertical-align: middle;\n",
       "    }\n",
       "\n",
       "    .dataframe tbody tr th {\n",
       "        vertical-align: top;\n",
       "    }\n",
       "\n",
       "    .dataframe thead th {\n",
       "        text-align: right;\n",
       "    }\n",
       "</style>\n",
       "<table border=\"1\" class=\"dataframe\">\n",
       "  <thead>\n",
       "    <tr style=\"text-align: right;\">\n",
       "      <th></th>\n",
       "      <th>tanggal</th>\n",
       "      <th>stasiun</th>\n",
       "      <th>pm10</th>\n",
       "      <th>so2</th>\n",
       "      <th>co</th>\n",
       "      <th>o3</th>\n",
       "      <th>no2</th>\n",
       "      <th>max</th>\n",
       "      <th>critical</th>\n",
       "      <th>categori</th>\n",
       "    </tr>\n",
       "  </thead>\n",
       "  <tbody>\n",
       "    <tr>\n",
       "      <th>0</th>\n",
       "      <td>2020-02-01</td>\n",
       "      <td>DKI1 (Bunderan HI)</td>\n",
       "      <td>29</td>\n",
       "      <td>8</td>\n",
       "      <td>19</td>\n",
       "      <td>27</td>\n",
       "      <td>14</td>\n",
       "      <td>29</td>\n",
       "      <td>PM10</td>\n",
       "      <td>BAIK</td>\n",
       "    </tr>\n",
       "  </tbody>\n",
       "</table>\n",
       "</div>"
      ],
      "text/plain": [
       "      tanggal             stasiun pm10 so2  co  o3 no2  max critical categori\n",
       "0  2020-02-01  DKI1 (Bunderan HI)   29   8  19  27  14   29     PM10     BAIK"
      ]
     },
     "metadata": {},
     "output_type": "display_data"
    },
    {
     "data": {
      "text/html": [
       "<div>\n",
       "<style scoped>\n",
       "    .dataframe tbody tr th:only-of-type {\n",
       "        vertical-align: middle;\n",
       "    }\n",
       "\n",
       "    .dataframe tbody tr th {\n",
       "        vertical-align: top;\n",
       "    }\n",
       "\n",
       "    .dataframe thead th {\n",
       "        text-align: right;\n",
       "    }\n",
       "</style>\n",
       "<table border=\"1\" class=\"dataframe\">\n",
       "  <thead>\n",
       "    <tr style=\"text-align: right;\">\n",
       "      <th></th>\n",
       "      <th>tanggal</th>\n",
       "      <th>stasiun</th>\n",
       "      <th>pm10</th>\n",
       "      <th>so2</th>\n",
       "      <th>co</th>\n",
       "      <th>o3</th>\n",
       "      <th>no2</th>\n",
       "      <th>max</th>\n",
       "      <th>critical</th>\n",
       "      <th>categori</th>\n",
       "    </tr>\n",
       "  </thead>\n",
       "  <tbody>\n",
       "    <tr>\n",
       "      <th>0</th>\n",
       "      <td>2020-03-01</td>\n",
       "      <td>45</td>\n",
       "      <td>5</td>\n",
       "      <td>13</td>\n",
       "      <td>28</td>\n",
       "      <td>8</td>\n",
       "      <td>45</td>\n",
       "      <td>1.0</td>\n",
       "      <td>PM10</td>\n",
       "      <td>BAIK</td>\n",
       "    </tr>\n",
       "  </tbody>\n",
       "</table>\n",
       "</div>"
      ],
      "text/plain": [
       "      tanggal stasiun pm10 so2  co o3  no2  max critical categori\n",
       "0  2020-03-01      45    5  13  28  8   45  1.0     PM10     BAIK"
      ]
     },
     "metadata": {},
     "output_type": "display_data"
    },
    {
     "data": {
      "text/html": [
       "<div>\n",
       "<style scoped>\n",
       "    .dataframe tbody tr th:only-of-type {\n",
       "        vertical-align: middle;\n",
       "    }\n",
       "\n",
       "    .dataframe tbody tr th {\n",
       "        vertical-align: top;\n",
       "    }\n",
       "\n",
       "    .dataframe thead th {\n",
       "        text-align: right;\n",
       "    }\n",
       "</style>\n",
       "<table border=\"1\" class=\"dataframe\">\n",
       "  <thead>\n",
       "    <tr style=\"text-align: right;\">\n",
       "      <th></th>\n",
       "      <th>tanggal</th>\n",
       "      <th>stasiun</th>\n",
       "      <th>pm10</th>\n",
       "      <th>so2</th>\n",
       "      <th>co</th>\n",
       "      <th>o3</th>\n",
       "      <th>no2</th>\n",
       "      <th>max</th>\n",
       "      <th>critical</th>\n",
       "      <th>categori</th>\n",
       "    </tr>\n",
       "  </thead>\n",
       "  <tbody>\n",
       "    <tr>\n",
       "      <th>0</th>\n",
       "      <td>2020-04-01</td>\n",
       "      <td>DKI1 (Bunderan HI)</td>\n",
       "      <td>38</td>\n",
       "      <td>6</td>\n",
       "      <td>12</td>\n",
       "      <td>67</td>\n",
       "      <td>10</td>\n",
       "      <td>67</td>\n",
       "      <td>O3</td>\n",
       "      <td>SEDANG</td>\n",
       "    </tr>\n",
       "  </tbody>\n",
       "</table>\n",
       "</div>"
      ],
      "text/plain": [
       "      tanggal             stasiun pm10 so2  co  o3 no2  max critical categori\n",
       "0  2020-04-01  DKI1 (Bunderan HI)   38   6  12  67  10   67       O3   SEDANG"
      ]
     },
     "metadata": {},
     "output_type": "display_data"
    },
    {
     "data": {
      "text/html": [
       "<div>\n",
       "<style scoped>\n",
       "    .dataframe tbody tr th:only-of-type {\n",
       "        vertical-align: middle;\n",
       "    }\n",
       "\n",
       "    .dataframe tbody tr th {\n",
       "        vertical-align: top;\n",
       "    }\n",
       "\n",
       "    .dataframe thead th {\n",
       "        text-align: right;\n",
       "    }\n",
       "</style>\n",
       "<table border=\"1\" class=\"dataframe\">\n",
       "  <thead>\n",
       "    <tr style=\"text-align: right;\">\n",
       "      <th></th>\n",
       "      <th>tanggal</th>\n",
       "      <th>stasiun</th>\n",
       "      <th>pm10</th>\n",
       "      <th>so2</th>\n",
       "      <th>co</th>\n",
       "      <th>o3</th>\n",
       "      <th>no2</th>\n",
       "      <th>max</th>\n",
       "      <th>critical</th>\n",
       "      <th>categori</th>\n",
       "    </tr>\n",
       "  </thead>\n",
       "  <tbody>\n",
       "    <tr>\n",
       "      <th>0</th>\n",
       "      <td>2020-05-01</td>\n",
       "      <td>DKI1 (Bunderan HI)</td>\n",
       "      <td>47</td>\n",
       "      <td>2</td>\n",
       "      <td>---</td>\n",
       "      <td>38</td>\n",
       "      <td>10</td>\n",
       "      <td>47</td>\n",
       "      <td>PM10</td>\n",
       "      <td>BAIK</td>\n",
       "    </tr>\n",
       "  </tbody>\n",
       "</table>\n",
       "</div>"
      ],
      "text/plain": [
       "      tanggal             stasiun pm10 so2   co  o3 no2  max critical categori\n",
       "0  2020-05-01  DKI1 (Bunderan HI)   47   2  ---  38  10   47     PM10     BAIK"
      ]
     },
     "metadata": {},
     "output_type": "display_data"
    },
    {
     "data": {
      "text/html": [
       "<div>\n",
       "<style scoped>\n",
       "    .dataframe tbody tr th:only-of-type {\n",
       "        vertical-align: middle;\n",
       "    }\n",
       "\n",
       "    .dataframe tbody tr th {\n",
       "        vertical-align: top;\n",
       "    }\n",
       "\n",
       "    .dataframe thead th {\n",
       "        text-align: right;\n",
       "    }\n",
       "</style>\n",
       "<table border=\"1\" class=\"dataframe\">\n",
       "  <thead>\n",
       "    <tr style=\"text-align: right;\">\n",
       "      <th></th>\n",
       "      <th>tanggal</th>\n",
       "      <th>stasiun</th>\n",
       "      <th>pm10</th>\n",
       "      <th>so2</th>\n",
       "      <th>co</th>\n",
       "      <th>o3</th>\n",
       "      <th>no2</th>\n",
       "      <th>max</th>\n",
       "      <th>critical</th>\n",
       "      <th>categori</th>\n",
       "    </tr>\n",
       "  </thead>\n",
       "  <tbody>\n",
       "    <tr>\n",
       "      <th>0</th>\n",
       "      <td>2020-06-01</td>\n",
       "      <td>DKI1 (Bunderan HI)</td>\n",
       "      <td>50</td>\n",
       "      <td>14</td>\n",
       "      <td>10</td>\n",
       "      <td>45</td>\n",
       "      <td>9</td>\n",
       "      <td>50</td>\n",
       "      <td>PM10</td>\n",
       "      <td>BAIK</td>\n",
       "    </tr>\n",
       "  </tbody>\n",
       "</table>\n",
       "</div>"
      ],
      "text/plain": [
       "      tanggal             stasiun pm10 so2  co  o3 no2  max critical categori\n",
       "0  2020-06-01  DKI1 (Bunderan HI)   50  14  10  45   9   50     PM10     BAIK"
      ]
     },
     "metadata": {},
     "output_type": "display_data"
    },
    {
     "data": {
      "text/html": [
       "<div>\n",
       "<style scoped>\n",
       "    .dataframe tbody tr th:only-of-type {\n",
       "        vertical-align: middle;\n",
       "    }\n",
       "\n",
       "    .dataframe tbody tr th {\n",
       "        vertical-align: top;\n",
       "    }\n",
       "\n",
       "    .dataframe thead th {\n",
       "        text-align: right;\n",
       "    }\n",
       "</style>\n",
       "<table border=\"1\" class=\"dataframe\">\n",
       "  <thead>\n",
       "    <tr style=\"text-align: right;\">\n",
       "      <th></th>\n",
       "      <th>tanggal</th>\n",
       "      <th>stasiun</th>\n",
       "      <th>pm10</th>\n",
       "      <th>so2</th>\n",
       "      <th>co</th>\n",
       "      <th>o3</th>\n",
       "      <th>no2</th>\n",
       "      <th>max</th>\n",
       "      <th>critical</th>\n",
       "      <th>categori</th>\n",
       "    </tr>\n",
       "  </thead>\n",
       "  <tbody>\n",
       "    <tr>\n",
       "      <th>0</th>\n",
       "      <td>2020-07-01</td>\n",
       "      <td>DKI1 (Bunderan HI)</td>\n",
       "      <td>69</td>\n",
       "      <td>18</td>\n",
       "      <td>6</td>\n",
       "      <td>65</td>\n",
       "      <td>11</td>\n",
       "      <td>69</td>\n",
       "      <td>PM10</td>\n",
       "      <td>SEDANG</td>\n",
       "    </tr>\n",
       "  </tbody>\n",
       "</table>\n",
       "</div>"
      ],
      "text/plain": [
       "      tanggal             stasiun pm10 so2 co  o3 no2  max critical categori\n",
       "0  2020-07-01  DKI1 (Bunderan HI)   69  18  6  65  11   69     PM10   SEDANG"
      ]
     },
     "metadata": {},
     "output_type": "display_data"
    },
    {
     "data": {
      "text/html": [
       "<div>\n",
       "<style scoped>\n",
       "    .dataframe tbody tr th:only-of-type {\n",
       "        vertical-align: middle;\n",
       "    }\n",
       "\n",
       "    .dataframe tbody tr th {\n",
       "        vertical-align: top;\n",
       "    }\n",
       "\n",
       "    .dataframe thead th {\n",
       "        text-align: right;\n",
       "    }\n",
       "</style>\n",
       "<table border=\"1\" class=\"dataframe\">\n",
       "  <thead>\n",
       "    <tr style=\"text-align: right;\">\n",
       "      <th></th>\n",
       "      <th>tanggal</th>\n",
       "      <th>stasiun</th>\n",
       "      <th>pm10</th>\n",
       "      <th>so2</th>\n",
       "      <th>co</th>\n",
       "      <th>o3</th>\n",
       "      <th>no2</th>\n",
       "      <th>max</th>\n",
       "      <th>critical</th>\n",
       "      <th>categori</th>\n",
       "    </tr>\n",
       "  </thead>\n",
       "  <tbody>\n",
       "    <tr>\n",
       "      <th>0</th>\n",
       "      <td>2020-08-01</td>\n",
       "      <td>DKI1 (Bunderan HI)</td>\n",
       "      <td>65</td>\n",
       "      <td>18</td>\n",
       "      <td>7</td>\n",
       "      <td>84</td>\n",
       "      <td>13</td>\n",
       "      <td>84</td>\n",
       "      <td>O3</td>\n",
       "      <td>SEDANG</td>\n",
       "    </tr>\n",
       "  </tbody>\n",
       "</table>\n",
       "</div>"
      ],
      "text/plain": [
       "      tanggal             stasiun pm10 so2 co  o3 no2  max critical categori\n",
       "0  2020-08-01  DKI1 (Bunderan HI)   65  18  7  84  13   84       O3   SEDANG"
      ]
     },
     "metadata": {},
     "output_type": "display_data"
    }
   ],
   "source": [
    "display( ispu_jan2.head(1), ispu_feb2.head(1), ispu_mar2.head(1),\n",
    "        ispu_apr2.head(1), ispu_mei2.head(1), ispu_jun2.head(1),\n",
    "        ispu_jul2.head(1), ispu_ags2.head(1))"
   ]
  },
  {
   "cell_type": "markdown",
   "id": "eEc4weBtqbPS",
   "metadata": {
    "id": "eEc4weBtqbPS"
   },
   "source": [
    "dikarenakan data jenis kedua memiliki semua nama kolom yang sama dengan data sepetember - Desember, maka kita akan menggabungkan data jenis kedua dengan data September - Desember, tapi sebelum itu, mari kita cek data untuk bulan maret jenis kedua yang nilainya berbeda dengan yang lain"
   ]
  },
  {
   "cell_type": "code",
   "execution_count": 7,
   "id": "L7HJ9fMbqH4J",
   "metadata": {
    "colab": {
     "base_uri": "https://localhost:8080/",
     "height": 396
    },
    "id": "L7HJ9fMbqH4J",
    "outputId": "15d37627-f3af-425f-c4b8-5d7ebf8b0774"
   },
   "outputs": [
    {
     "data": {
      "text/html": [
       "<div>\n",
       "<style scoped>\n",
       "    .dataframe tbody tr th:only-of-type {\n",
       "        vertical-align: middle;\n",
       "    }\n",
       "\n",
       "    .dataframe tbody tr th {\n",
       "        vertical-align: top;\n",
       "    }\n",
       "\n",
       "    .dataframe thead th {\n",
       "        text-align: right;\n",
       "    }\n",
       "</style>\n",
       "<table border=\"1\" class=\"dataframe\">\n",
       "  <thead>\n",
       "    <tr style=\"text-align: right;\">\n",
       "      <th></th>\n",
       "      <th>tanggal</th>\n",
       "      <th>stasiun</th>\n",
       "      <th>pm10</th>\n",
       "      <th>so2</th>\n",
       "      <th>co</th>\n",
       "      <th>o3</th>\n",
       "      <th>no2</th>\n",
       "      <th>max</th>\n",
       "      <th>critical</th>\n",
       "      <th>categori</th>\n",
       "    </tr>\n",
       "  </thead>\n",
       "  <tbody>\n",
       "    <tr>\n",
       "      <th>0</th>\n",
       "      <td>2020-03-01</td>\n",
       "      <td>45</td>\n",
       "      <td>5</td>\n",
       "      <td>13</td>\n",
       "      <td>28</td>\n",
       "      <td>8</td>\n",
       "      <td>45</td>\n",
       "      <td>1.0</td>\n",
       "      <td>PM10</td>\n",
       "      <td>BAIK</td>\n",
       "    </tr>\n",
       "    <tr>\n",
       "      <th>1</th>\n",
       "      <td>2020-03-02</td>\n",
       "      <td>34</td>\n",
       "      <td>5</td>\n",
       "      <td>15</td>\n",
       "      <td>32</td>\n",
       "      <td>10</td>\n",
       "      <td>34</td>\n",
       "      <td>1.0</td>\n",
       "      <td>PM10</td>\n",
       "      <td>BAIK</td>\n",
       "    </tr>\n",
       "    <tr>\n",
       "      <th>2</th>\n",
       "      <td>2020-03-03</td>\n",
       "      <td>59</td>\n",
       "      <td>5</td>\n",
       "      <td>23</td>\n",
       "      <td>29</td>\n",
       "      <td>14</td>\n",
       "      <td>59</td>\n",
       "      <td>1.0</td>\n",
       "      <td>PM10</td>\n",
       "      <td>SEDANG</td>\n",
       "    </tr>\n",
       "    <tr>\n",
       "      <th>3</th>\n",
       "      <td>2020-03-04</td>\n",
       "      <td>56</td>\n",
       "      <td>7</td>\n",
       "      <td>19</td>\n",
       "      <td>55</td>\n",
       "      <td>16</td>\n",
       "      <td>56</td>\n",
       "      <td>1.0</td>\n",
       "      <td>PM10</td>\n",
       "      <td>SEDANG</td>\n",
       "    </tr>\n",
       "    <tr>\n",
       "      <th>4</th>\n",
       "      <td>2020-03-05</td>\n",
       "      <td>35</td>\n",
       "      <td>6</td>\n",
       "      <td>16</td>\n",
       "      <td>30</td>\n",
       "      <td>13</td>\n",
       "      <td>35</td>\n",
       "      <td>1.0</td>\n",
       "      <td>PM10</td>\n",
       "      <td>BAIK</td>\n",
       "    </tr>\n",
       "  </tbody>\n",
       "</table>\n",
       "</div>"
      ],
      "text/plain": [
       "      tanggal stasiun pm10 so2  co  o3  no2  max critical categori\n",
       "0  2020-03-01      45    5  13  28   8   45  1.0     PM10     BAIK\n",
       "1  2020-03-02      34    5  15  32  10   34  1.0     PM10     BAIK\n",
       "2  2020-03-03      59    5  23  29  14   59  1.0     PM10   SEDANG\n",
       "3  2020-03-04      56    7  19  55  16   56  1.0     PM10   SEDANG\n",
       "4  2020-03-05      35    6  16  30  13   35  1.0     PM10     BAIK"
      ]
     },
     "metadata": {},
     "output_type": "display_data"
    },
    {
     "data": {
      "text/html": [
       "<div>\n",
       "<style scoped>\n",
       "    .dataframe tbody tr th:only-of-type {\n",
       "        vertical-align: middle;\n",
       "    }\n",
       "\n",
       "    .dataframe tbody tr th {\n",
       "        vertical-align: top;\n",
       "    }\n",
       "\n",
       "    .dataframe thead th {\n",
       "        text-align: right;\n",
       "    }\n",
       "</style>\n",
       "<table border=\"1\" class=\"dataframe\">\n",
       "  <thead>\n",
       "    <tr style=\"text-align: right;\">\n",
       "      <th></th>\n",
       "      <th>tanggal</th>\n",
       "      <th>stasiun</th>\n",
       "      <th>pm10</th>\n",
       "      <th>so2</th>\n",
       "      <th>co</th>\n",
       "      <th>o3</th>\n",
       "      <th>no2</th>\n",
       "      <th>max</th>\n",
       "      <th>critical</th>\n",
       "      <th>categori</th>\n",
       "    </tr>\n",
       "  </thead>\n",
       "  <tbody>\n",
       "    <tr>\n",
       "      <th>150</th>\n",
       "      <td>2020-03-27</td>\n",
       "      <td>40</td>\n",
       "      <td>---</td>\n",
       "      <td>6</td>\n",
       "      <td>117</td>\n",
       "      <td>5</td>\n",
       "      <td>117</td>\n",
       "      <td>4.0</td>\n",
       "      <td>O3</td>\n",
       "      <td>TIDAK SEHAT</td>\n",
       "    </tr>\n",
       "    <tr>\n",
       "      <th>151</th>\n",
       "      <td>2020-03-28</td>\n",
       "      <td>58</td>\n",
       "      <td>11</td>\n",
       "      <td>12</td>\n",
       "      <td>124</td>\n",
       "      <td>6</td>\n",
       "      <td>124</td>\n",
       "      <td>4.0</td>\n",
       "      <td>O3</td>\n",
       "      <td>TIDAK SEHAT</td>\n",
       "    </tr>\n",
       "    <tr>\n",
       "      <th>152</th>\n",
       "      <td>2020-03-29</td>\n",
       "      <td>65</td>\n",
       "      <td>14</td>\n",
       "      <td>11</td>\n",
       "      <td>91</td>\n",
       "      <td>7</td>\n",
       "      <td>91</td>\n",
       "      <td>4.0</td>\n",
       "      <td>O3</td>\n",
       "      <td>SEDANG</td>\n",
       "    </tr>\n",
       "    <tr>\n",
       "      <th>153</th>\n",
       "      <td>2020-03-30</td>\n",
       "      <td>53</td>\n",
       "      <td>9</td>\n",
       "      <td>10</td>\n",
       "      <td>76</td>\n",
       "      <td>5</td>\n",
       "      <td>76</td>\n",
       "      <td>4.0</td>\n",
       "      <td>O3</td>\n",
       "      <td>SEDANG</td>\n",
       "    </tr>\n",
       "    <tr>\n",
       "      <th>154</th>\n",
       "      <td>2020-03-31</td>\n",
       "      <td>47</td>\n",
       "      <td>11</td>\n",
       "      <td>14</td>\n",
       "      <td>96</td>\n",
       "      <td>6</td>\n",
       "      <td>96</td>\n",
       "      <td>4.0</td>\n",
       "      <td>O3</td>\n",
       "      <td>SEDANG</td>\n",
       "    </tr>\n",
       "  </tbody>\n",
       "</table>\n",
       "</div>"
      ],
      "text/plain": [
       "        tanggal stasiun pm10 so2   co o3  no2  max critical     categori\n",
       "150  2020-03-27      40  ---   6  117  5  117  4.0       O3  TIDAK SEHAT\n",
       "151  2020-03-28      58   11  12  124  6  124  4.0       O3  TIDAK SEHAT\n",
       "152  2020-03-29      65   14  11   91  7   91  4.0       O3       SEDANG\n",
       "153  2020-03-30      53    9  10   76  5   76  4.0       O3       SEDANG\n",
       "154  2020-03-31      47   11  14   96  6   96  4.0       O3       SEDANG"
      ]
     },
     "metadata": {},
     "output_type": "display_data"
    }
   ],
   "source": [
    "# menampilkan data maret jenis 2\n",
    "display(ispu_mar2.head(),  ispu_mar2.tail())"
   ]
  },
  {
   "cell_type": "markdown",
   "id": "GSJ-HrSEA-Fa",
   "metadata": {
    "id": "GSJ-HrSEA-Fa"
   },
   "source": [
    "dikarenakan tidak mengetahui stasiun, maka dilakukan cek untuk jenis data maret pertama "
   ]
  },
  {
   "cell_type": "code",
   "execution_count": 8,
   "id": "UoSdP60ztMl4",
   "metadata": {
    "colab": {
     "base_uri": "https://localhost:8080/",
     "height": 396
    },
    "id": "UoSdP60ztMl4",
    "outputId": "17723335-0f7c-4f6f-9e8a-467dc9f4a1d2"
   },
   "outputs": [
    {
     "data": {
      "text/html": [
       "<div>\n",
       "<style scoped>\n",
       "    .dataframe tbody tr th:only-of-type {\n",
       "        vertical-align: middle;\n",
       "    }\n",
       "\n",
       "    .dataframe tbody tr th {\n",
       "        vertical-align: top;\n",
       "    }\n",
       "\n",
       "    .dataframe thead th {\n",
       "        text-align: right;\n",
       "    }\n",
       "</style>\n",
       "<table border=\"1\" class=\"dataframe\">\n",
       "  <thead>\n",
       "    <tr style=\"text-align: right;\">\n",
       "      <th></th>\n",
       "      <th>tanggal</th>\n",
       "      <th>stasiun</th>\n",
       "      <th>pm10</th>\n",
       "      <th>so2</th>\n",
       "      <th>co</th>\n",
       "      <th>o3</th>\n",
       "      <th>no2</th>\n",
       "      <th>max</th>\n",
       "      <th>critical</th>\n",
       "      <th>categori</th>\n",
       "    </tr>\n",
       "  </thead>\n",
       "  <tbody>\n",
       "    <tr>\n",
       "      <th>0</th>\n",
       "      <td>2020-03-01</td>\n",
       "      <td>45</td>\n",
       "      <td>5</td>\n",
       "      <td>13</td>\n",
       "      <td>28</td>\n",
       "      <td>8</td>\n",
       "      <td>45</td>\n",
       "      <td>1.0</td>\n",
       "      <td>PM10</td>\n",
       "      <td>BAIK</td>\n",
       "    </tr>\n",
       "    <tr>\n",
       "      <th>1</th>\n",
       "      <td>2020-03-02</td>\n",
       "      <td>34</td>\n",
       "      <td>5</td>\n",
       "      <td>15</td>\n",
       "      <td>32</td>\n",
       "      <td>10</td>\n",
       "      <td>34</td>\n",
       "      <td>1.0</td>\n",
       "      <td>PM10</td>\n",
       "      <td>BAIK</td>\n",
       "    </tr>\n",
       "    <tr>\n",
       "      <th>2</th>\n",
       "      <td>2020-03-03</td>\n",
       "      <td>59</td>\n",
       "      <td>5</td>\n",
       "      <td>23</td>\n",
       "      <td>29</td>\n",
       "      <td>14</td>\n",
       "      <td>59</td>\n",
       "      <td>1.0</td>\n",
       "      <td>PM10</td>\n",
       "      <td>SEDANG</td>\n",
       "    </tr>\n",
       "    <tr>\n",
       "      <th>3</th>\n",
       "      <td>2020-03-04</td>\n",
       "      <td>56</td>\n",
       "      <td>7</td>\n",
       "      <td>19</td>\n",
       "      <td>55</td>\n",
       "      <td>16</td>\n",
       "      <td>56</td>\n",
       "      <td>1.0</td>\n",
       "      <td>PM10</td>\n",
       "      <td>SEDANG</td>\n",
       "    </tr>\n",
       "    <tr>\n",
       "      <th>4</th>\n",
       "      <td>2020-03-05</td>\n",
       "      <td>35</td>\n",
       "      <td>6</td>\n",
       "      <td>16</td>\n",
       "      <td>30</td>\n",
       "      <td>13</td>\n",
       "      <td>35</td>\n",
       "      <td>1.0</td>\n",
       "      <td>PM10</td>\n",
       "      <td>BAIK</td>\n",
       "    </tr>\n",
       "  </tbody>\n",
       "</table>\n",
       "</div>"
      ],
      "text/plain": [
       "      tanggal stasiun pm10 so2  co  o3  no2  max critical categori\n",
       "0  2020-03-01      45    5  13  28   8   45  1.0     PM10     BAIK\n",
       "1  2020-03-02      34    5  15  32  10   34  1.0     PM10     BAIK\n",
       "2  2020-03-03      59    5  23  29  14   59  1.0     PM10   SEDANG\n",
       "3  2020-03-04      56    7  19  55  16   56  1.0     PM10   SEDANG\n",
       "4  2020-03-05      35    6  16  30  13   35  1.0     PM10     BAIK"
      ]
     },
     "metadata": {},
     "output_type": "display_data"
    },
    {
     "data": {
      "text/html": [
       "<div>\n",
       "<style scoped>\n",
       "    .dataframe tbody tr th:only-of-type {\n",
       "        vertical-align: middle;\n",
       "    }\n",
       "\n",
       "    .dataframe tbody tr th {\n",
       "        vertical-align: top;\n",
       "    }\n",
       "\n",
       "    .dataframe thead th {\n",
       "        text-align: right;\n",
       "    }\n",
       "</style>\n",
       "<table border=\"1\" class=\"dataframe\">\n",
       "  <thead>\n",
       "    <tr style=\"text-align: right;\">\n",
       "      <th></th>\n",
       "      <th>tanggal</th>\n",
       "      <th>stasiun</th>\n",
       "      <th>pm10</th>\n",
       "      <th>so2</th>\n",
       "      <th>co</th>\n",
       "      <th>o3</th>\n",
       "      <th>no2</th>\n",
       "      <th>max</th>\n",
       "      <th>critical</th>\n",
       "      <th>categori</th>\n",
       "    </tr>\n",
       "  </thead>\n",
       "  <tbody>\n",
       "    <tr>\n",
       "      <th>150</th>\n",
       "      <td>2020-03-27</td>\n",
       "      <td>40</td>\n",
       "      <td>---</td>\n",
       "      <td>6</td>\n",
       "      <td>117</td>\n",
       "      <td>5</td>\n",
       "      <td>117</td>\n",
       "      <td>4.0</td>\n",
       "      <td>O3</td>\n",
       "      <td>TIDAK SEHAT</td>\n",
       "    </tr>\n",
       "    <tr>\n",
       "      <th>151</th>\n",
       "      <td>2020-03-28</td>\n",
       "      <td>58</td>\n",
       "      <td>11</td>\n",
       "      <td>12</td>\n",
       "      <td>124</td>\n",
       "      <td>6</td>\n",
       "      <td>124</td>\n",
       "      <td>4.0</td>\n",
       "      <td>O3</td>\n",
       "      <td>TIDAK SEHAT</td>\n",
       "    </tr>\n",
       "    <tr>\n",
       "      <th>152</th>\n",
       "      <td>2020-03-29</td>\n",
       "      <td>65</td>\n",
       "      <td>14</td>\n",
       "      <td>11</td>\n",
       "      <td>91</td>\n",
       "      <td>7</td>\n",
       "      <td>91</td>\n",
       "      <td>4.0</td>\n",
       "      <td>O3</td>\n",
       "      <td>SEDANG</td>\n",
       "    </tr>\n",
       "    <tr>\n",
       "      <th>153</th>\n",
       "      <td>2020-03-30</td>\n",
       "      <td>53</td>\n",
       "      <td>9</td>\n",
       "      <td>10</td>\n",
       "      <td>76</td>\n",
       "      <td>5</td>\n",
       "      <td>76</td>\n",
       "      <td>4.0</td>\n",
       "      <td>O3</td>\n",
       "      <td>SEDANG</td>\n",
       "    </tr>\n",
       "    <tr>\n",
       "      <th>154</th>\n",
       "      <td>2020-03-31</td>\n",
       "      <td>47</td>\n",
       "      <td>11</td>\n",
       "      <td>14</td>\n",
       "      <td>96</td>\n",
       "      <td>6</td>\n",
       "      <td>96</td>\n",
       "      <td>4.0</td>\n",
       "      <td>O3</td>\n",
       "      <td>SEDANG</td>\n",
       "    </tr>\n",
       "  </tbody>\n",
       "</table>\n",
       "</div>"
      ],
      "text/plain": [
       "        tanggal stasiun pm10 so2   co o3  no2  max critical     categori\n",
       "150  2020-03-27      40  ---   6  117  5  117  4.0       O3  TIDAK SEHAT\n",
       "151  2020-03-28      58   11  12  124  6  124  4.0       O3  TIDAK SEHAT\n",
       "152  2020-03-29      65   14  11   91  7   91  4.0       O3       SEDANG\n",
       "153  2020-03-30      53    9  10   76  5   76  4.0       O3       SEDANG\n",
       "154  2020-03-31      47   11  14   96  6   96  4.0       O3       SEDANG"
      ]
     },
     "metadata": {},
     "output_type": "display_data"
    }
   ],
   "source": [
    "#  menampilkan data maret jenis 1\n",
    "display(ispu_mar2.head(),  ispu_mar2.tail())"
   ]
  },
  {
   "cell_type": "markdown",
   "id": "sR3mNVQHBPsL",
   "metadata": {
    "id": "sR3mNVQHBPsL"
   },
   "source": [
    "karena tidak ada juga, maka kita perlu cek shape data januari sampai agustus jenis kedua"
   ]
  },
  {
   "cell_type": "code",
   "execution_count": 9,
   "id": "t6Afn_AsruQN",
   "metadata": {
    "colab": {
     "base_uri": "https://localhost:8080/",
     "height": 156
    },
    "id": "t6Afn_AsruQN",
    "outputId": "26d27e7f-55d7-4c58-8189-93fc7c94442b"
   },
   "outputs": [
    {
     "data": {
      "text/plain": [
       "(155, 10)"
      ]
     },
     "metadata": {},
     "output_type": "display_data"
    },
    {
     "data": {
      "text/plain": [
       "(145, 10)"
      ]
     },
     "metadata": {},
     "output_type": "display_data"
    },
    {
     "data": {
      "text/plain": [
       "(155, 10)"
      ]
     },
     "metadata": {},
     "output_type": "display_data"
    },
    {
     "data": {
      "text/plain": [
       "(150, 10)"
      ]
     },
     "metadata": {},
     "output_type": "display_data"
    },
    {
     "data": {
      "text/plain": [
       "(155, 10)"
      ]
     },
     "metadata": {},
     "output_type": "display_data"
    },
    {
     "data": {
      "text/plain": [
       "(150, 10)"
      ]
     },
     "metadata": {},
     "output_type": "display_data"
    },
    {
     "data": {
      "text/plain": [
       "(155, 10)"
      ]
     },
     "metadata": {},
     "output_type": "display_data"
    },
    {
     "data": {
      "text/plain": [
       "(155, 10)"
      ]
     },
     "metadata": {},
     "output_type": "display_data"
    }
   ],
   "source": [
    "display( ispu_jan2.shape, ispu_feb2.shape, ispu_mar2.shape,\n",
    "        ispu_apr2.shape, ispu_mei2.shape, ispu_jun2.shape,\n",
    "        ispu_jul2.shape, ispu_ags2.shape)"
   ]
  },
  {
   "cell_type": "markdown",
   "id": "ULOd5vNfBeR_",
   "metadata": {
    "id": "ULOd5vNfBeR_"
   },
   "source": [
    "setelah itu cek apakah isi dari value stasiun untuk shape 155 sama semua. hal itu dikarenakan maret memiliki 155 data"
   ]
  },
  {
   "cell_type": "code",
   "execution_count": 10,
   "id": "kCBZqkQ6thSw",
   "metadata": {
    "colab": {
     "base_uri": "https://localhost:8080/",
     "height": 1000
    },
    "id": "kCBZqkQ6thSw",
    "outputId": "c2c02cfd-6707-4e07-c6e0-866ad3b937b5"
   },
   "outputs": [
    {
     "data": {
      "text/html": [
       "<div>\n",
       "<style scoped>\n",
       "    .dataframe tbody tr th:only-of-type {\n",
       "        vertical-align: middle;\n",
       "    }\n",
       "\n",
       "    .dataframe tbody tr th {\n",
       "        vertical-align: top;\n",
       "    }\n",
       "\n",
       "    .dataframe thead th {\n",
       "        text-align: right;\n",
       "    }\n",
       "</style>\n",
       "<table border=\"1\" class=\"dataframe\">\n",
       "  <thead>\n",
       "    <tr style=\"text-align: right;\">\n",
       "      <th></th>\n",
       "      <th>tanggal</th>\n",
       "      <th>stasiun</th>\n",
       "      <th>pm10</th>\n",
       "      <th>so2</th>\n",
       "      <th>co</th>\n",
       "      <th>o3</th>\n",
       "      <th>no2</th>\n",
       "      <th>max</th>\n",
       "      <th>critical</th>\n",
       "      <th>categori</th>\n",
       "    </tr>\n",
       "  </thead>\n",
       "  <tbody>\n",
       "    <tr>\n",
       "      <th>0</th>\n",
       "      <td>2020-01-01</td>\n",
       "      <td>DKI1 (Bunderan HI)</td>\n",
       "      <td>30</td>\n",
       "      <td>20</td>\n",
       "      <td>10</td>\n",
       "      <td>32</td>\n",
       "      <td>9</td>\n",
       "      <td>32</td>\n",
       "      <td>O3</td>\n",
       "      <td>BAIK</td>\n",
       "    </tr>\n",
       "    <tr>\n",
       "      <th>1</th>\n",
       "      <td>2020-01-02</td>\n",
       "      <td>DKI1 (Bunderan HI)</td>\n",
       "      <td>27</td>\n",
       "      <td>22</td>\n",
       "      <td>12</td>\n",
       "      <td>29</td>\n",
       "      <td>8</td>\n",
       "      <td>29</td>\n",
       "      <td>O3</td>\n",
       "      <td>BAIK</td>\n",
       "    </tr>\n",
       "    <tr>\n",
       "      <th>2</th>\n",
       "      <td>2020-01-03</td>\n",
       "      <td>DKI1 (Bunderan HI)</td>\n",
       "      <td>39</td>\n",
       "      <td>22</td>\n",
       "      <td>14</td>\n",
       "      <td>32</td>\n",
       "      <td>10</td>\n",
       "      <td>39</td>\n",
       "      <td>PM10</td>\n",
       "      <td>BAIK</td>\n",
       "    </tr>\n",
       "    <tr>\n",
       "      <th>3</th>\n",
       "      <td>2020-01-04</td>\n",
       "      <td>DKI1 (Bunderan HI)</td>\n",
       "      <td>34</td>\n",
       "      <td>22</td>\n",
       "      <td>14</td>\n",
       "      <td>38</td>\n",
       "      <td>10</td>\n",
       "      <td>38</td>\n",
       "      <td>O3</td>\n",
       "      <td>BAIK</td>\n",
       "    </tr>\n",
       "    <tr>\n",
       "      <th>4</th>\n",
       "      <td>2020-01-05</td>\n",
       "      <td>DKI1 (Bunderan HI)</td>\n",
       "      <td>35</td>\n",
       "      <td>22</td>\n",
       "      <td>12</td>\n",
       "      <td>31</td>\n",
       "      <td>9</td>\n",
       "      <td>35</td>\n",
       "      <td>PM10</td>\n",
       "      <td>BAIK</td>\n",
       "    </tr>\n",
       "  </tbody>\n",
       "</table>\n",
       "</div>"
      ],
      "text/plain": [
       "      tanggal             stasiun pm10 so2  co  o3 no2  max critical categori\n",
       "0  2020-01-01  DKI1 (Bunderan HI)   30  20  10  32   9   32       O3     BAIK\n",
       "1  2020-01-02  DKI1 (Bunderan HI)   27  22  12  29   8   29       O3     BAIK\n",
       "2  2020-01-03  DKI1 (Bunderan HI)   39  22  14  32  10   39     PM10     BAIK\n",
       "3  2020-01-04  DKI1 (Bunderan HI)   34  22  14  38  10   38       O3     BAIK\n",
       "4  2020-01-05  DKI1 (Bunderan HI)   35  22  12  31   9   35     PM10     BAIK"
      ]
     },
     "metadata": {},
     "output_type": "display_data"
    },
    {
     "data": {
      "text/html": [
       "<div>\n",
       "<style scoped>\n",
       "    .dataframe tbody tr th:only-of-type {\n",
       "        vertical-align: middle;\n",
       "    }\n",
       "\n",
       "    .dataframe tbody tr th {\n",
       "        vertical-align: top;\n",
       "    }\n",
       "\n",
       "    .dataframe thead th {\n",
       "        text-align: right;\n",
       "    }\n",
       "</style>\n",
       "<table border=\"1\" class=\"dataframe\">\n",
       "  <thead>\n",
       "    <tr style=\"text-align: right;\">\n",
       "      <th></th>\n",
       "      <th>tanggal</th>\n",
       "      <th>stasiun</th>\n",
       "      <th>pm10</th>\n",
       "      <th>so2</th>\n",
       "      <th>co</th>\n",
       "      <th>o3</th>\n",
       "      <th>no2</th>\n",
       "      <th>max</th>\n",
       "      <th>critical</th>\n",
       "      <th>categori</th>\n",
       "    </tr>\n",
       "  </thead>\n",
       "  <tbody>\n",
       "    <tr>\n",
       "      <th>0</th>\n",
       "      <td>2020-05-01</td>\n",
       "      <td>DKI1 (Bunderan HI)</td>\n",
       "      <td>47</td>\n",
       "      <td>2</td>\n",
       "      <td>---</td>\n",
       "      <td>38</td>\n",
       "      <td>10</td>\n",
       "      <td>47</td>\n",
       "      <td>PM10</td>\n",
       "      <td>BAIK</td>\n",
       "    </tr>\n",
       "    <tr>\n",
       "      <th>1</th>\n",
       "      <td>2020-05-02</td>\n",
       "      <td>DKI1 (Bunderan HI)</td>\n",
       "      <td>32</td>\n",
       "      <td>2</td>\n",
       "      <td>12</td>\n",
       "      <td>29</td>\n",
       "      <td>9</td>\n",
       "      <td>32</td>\n",
       "      <td>PM10</td>\n",
       "      <td>BAIK</td>\n",
       "    </tr>\n",
       "    <tr>\n",
       "      <th>2</th>\n",
       "      <td>2020-05-03</td>\n",
       "      <td>DKI1 (Bunderan HI)</td>\n",
       "      <td>52</td>\n",
       "      <td>5</td>\n",
       "      <td>11</td>\n",
       "      <td>35</td>\n",
       "      <td>9</td>\n",
       "      <td>52</td>\n",
       "      <td>PM10</td>\n",
       "      <td>SEDANG</td>\n",
       "    </tr>\n",
       "    <tr>\n",
       "      <th>3</th>\n",
       "      <td>2020-05-04</td>\n",
       "      <td>DKI1 (Bunderan HI)</td>\n",
       "      <td>50</td>\n",
       "      <td>4</td>\n",
       "      <td>4</td>\n",
       "      <td>30</td>\n",
       "      <td>8</td>\n",
       "      <td>50</td>\n",
       "      <td>PM10</td>\n",
       "      <td>BAIK</td>\n",
       "    </tr>\n",
       "    <tr>\n",
       "      <th>4</th>\n",
       "      <td>2020-05-05</td>\n",
       "      <td>DKI1 (Bunderan HI)</td>\n",
       "      <td>51</td>\n",
       "      <td>7</td>\n",
       "      <td>7</td>\n",
       "      <td>34</td>\n",
       "      <td>9</td>\n",
       "      <td>51</td>\n",
       "      <td>PM10</td>\n",
       "      <td>SEDANG</td>\n",
       "    </tr>\n",
       "  </tbody>\n",
       "</table>\n",
       "</div>"
      ],
      "text/plain": [
       "      tanggal             stasiun pm10 so2   co  o3 no2  max critical categori\n",
       "0  2020-05-01  DKI1 (Bunderan HI)   47   2  ---  38  10   47     PM10     BAIK\n",
       "1  2020-05-02  DKI1 (Bunderan HI)   32   2   12  29   9   32     PM10     BAIK\n",
       "2  2020-05-03  DKI1 (Bunderan HI)   52   5   11  35   9   52     PM10   SEDANG\n",
       "3  2020-05-04  DKI1 (Bunderan HI)   50   4    4  30   8   50     PM10     BAIK\n",
       "4  2020-05-05  DKI1 (Bunderan HI)   51   7    7  34   9   51     PM10   SEDANG"
      ]
     },
     "metadata": {},
     "output_type": "display_data"
    },
    {
     "data": {
      "text/html": [
       "<div>\n",
       "<style scoped>\n",
       "    .dataframe tbody tr th:only-of-type {\n",
       "        vertical-align: middle;\n",
       "    }\n",
       "\n",
       "    .dataframe tbody tr th {\n",
       "        vertical-align: top;\n",
       "    }\n",
       "\n",
       "    .dataframe thead th {\n",
       "        text-align: right;\n",
       "    }\n",
       "</style>\n",
       "<table border=\"1\" class=\"dataframe\">\n",
       "  <thead>\n",
       "    <tr style=\"text-align: right;\">\n",
       "      <th></th>\n",
       "      <th>tanggal</th>\n",
       "      <th>stasiun</th>\n",
       "      <th>pm10</th>\n",
       "      <th>so2</th>\n",
       "      <th>co</th>\n",
       "      <th>o3</th>\n",
       "      <th>no2</th>\n",
       "      <th>max</th>\n",
       "      <th>critical</th>\n",
       "      <th>categori</th>\n",
       "    </tr>\n",
       "  </thead>\n",
       "  <tbody>\n",
       "    <tr>\n",
       "      <th>0</th>\n",
       "      <td>2020-07-01</td>\n",
       "      <td>DKI1 (Bunderan HI)</td>\n",
       "      <td>69</td>\n",
       "      <td>18</td>\n",
       "      <td>6</td>\n",
       "      <td>65</td>\n",
       "      <td>11</td>\n",
       "      <td>69</td>\n",
       "      <td>PM10</td>\n",
       "      <td>SEDANG</td>\n",
       "    </tr>\n",
       "    <tr>\n",
       "      <th>1</th>\n",
       "      <td>2020-07-02</td>\n",
       "      <td>DKI1 (Bunderan HI)</td>\n",
       "      <td>68</td>\n",
       "      <td>17</td>\n",
       "      <td>7</td>\n",
       "      <td>47</td>\n",
       "      <td>11</td>\n",
       "      <td>68</td>\n",
       "      <td>PM10</td>\n",
       "      <td>SEDANG</td>\n",
       "    </tr>\n",
       "    <tr>\n",
       "      <th>2</th>\n",
       "      <td>2020-07-03</td>\n",
       "      <td>DKI1 (Bunderan HI)</td>\n",
       "      <td>54</td>\n",
       "      <td>18</td>\n",
       "      <td>7</td>\n",
       "      <td>32</td>\n",
       "      <td>9</td>\n",
       "      <td>54</td>\n",
       "      <td>PM10</td>\n",
       "      <td>SEDANG</td>\n",
       "    </tr>\n",
       "    <tr>\n",
       "      <th>3</th>\n",
       "      <td>2020-07-04</td>\n",
       "      <td>DKI1 (Bunderan HI)</td>\n",
       "      <td>70</td>\n",
       "      <td>18</td>\n",
       "      <td>8</td>\n",
       "      <td>43</td>\n",
       "      <td>12</td>\n",
       "      <td>70</td>\n",
       "      <td>PM10</td>\n",
       "      <td>SEDANG</td>\n",
       "    </tr>\n",
       "    <tr>\n",
       "      <th>4</th>\n",
       "      <td>2020-07-05</td>\n",
       "      <td>DKI1 (Bunderan HI)</td>\n",
       "      <td>63</td>\n",
       "      <td>20</td>\n",
       "      <td>5</td>\n",
       "      <td>40</td>\n",
       "      <td>9</td>\n",
       "      <td>63</td>\n",
       "      <td>PM10</td>\n",
       "      <td>SEDANG</td>\n",
       "    </tr>\n",
       "  </tbody>\n",
       "</table>\n",
       "</div>"
      ],
      "text/plain": [
       "      tanggal             stasiun pm10 so2 co  o3 no2  max critical categori\n",
       "0  2020-07-01  DKI1 (Bunderan HI)   69  18  6  65  11   69     PM10   SEDANG\n",
       "1  2020-07-02  DKI1 (Bunderan HI)   68  17  7  47  11   68     PM10   SEDANG\n",
       "2  2020-07-03  DKI1 (Bunderan HI)   54  18  7  32   9   54     PM10   SEDANG\n",
       "3  2020-07-04  DKI1 (Bunderan HI)   70  18  8  43  12   70     PM10   SEDANG\n",
       "4  2020-07-05  DKI1 (Bunderan HI)   63  20  5  40   9   63     PM10   SEDANG"
      ]
     },
     "metadata": {},
     "output_type": "display_data"
    },
    {
     "data": {
      "text/html": [
       "<div>\n",
       "<style scoped>\n",
       "    .dataframe tbody tr th:only-of-type {\n",
       "        vertical-align: middle;\n",
       "    }\n",
       "\n",
       "    .dataframe tbody tr th {\n",
       "        vertical-align: top;\n",
       "    }\n",
       "\n",
       "    .dataframe thead th {\n",
       "        text-align: right;\n",
       "    }\n",
       "</style>\n",
       "<table border=\"1\" class=\"dataframe\">\n",
       "  <thead>\n",
       "    <tr style=\"text-align: right;\">\n",
       "      <th></th>\n",
       "      <th>tanggal</th>\n",
       "      <th>stasiun</th>\n",
       "      <th>pm10</th>\n",
       "      <th>so2</th>\n",
       "      <th>co</th>\n",
       "      <th>o3</th>\n",
       "      <th>no2</th>\n",
       "      <th>max</th>\n",
       "      <th>critical</th>\n",
       "      <th>categori</th>\n",
       "    </tr>\n",
       "  </thead>\n",
       "  <tbody>\n",
       "    <tr>\n",
       "      <th>0</th>\n",
       "      <td>2020-08-01</td>\n",
       "      <td>DKI1 (Bunderan HI)</td>\n",
       "      <td>65</td>\n",
       "      <td>18</td>\n",
       "      <td>7</td>\n",
       "      <td>84</td>\n",
       "      <td>13</td>\n",
       "      <td>84</td>\n",
       "      <td>O3</td>\n",
       "      <td>SEDANG</td>\n",
       "    </tr>\n",
       "    <tr>\n",
       "      <th>1</th>\n",
       "      <td>2020-08-02</td>\n",
       "      <td>DKI1 (Bunderan HI)</td>\n",
       "      <td>75</td>\n",
       "      <td>17</td>\n",
       "      <td>11</td>\n",
       "      <td>77</td>\n",
       "      <td>15</td>\n",
       "      <td>77</td>\n",
       "      <td>O3</td>\n",
       "      <td>SEDANG</td>\n",
       "    </tr>\n",
       "    <tr>\n",
       "      <th>2</th>\n",
       "      <td>2020-08-03</td>\n",
       "      <td>DKI1 (Bunderan HI)</td>\n",
       "      <td>71</td>\n",
       "      <td>18</td>\n",
       "      <td>9</td>\n",
       "      <td>65</td>\n",
       "      <td>11</td>\n",
       "      <td>71</td>\n",
       "      <td>PM10</td>\n",
       "      <td>SEDANG</td>\n",
       "    </tr>\n",
       "    <tr>\n",
       "      <th>3</th>\n",
       "      <td>2020-08-04</td>\n",
       "      <td>DKI1 (Bunderan HI)</td>\n",
       "      <td>61</td>\n",
       "      <td>19</td>\n",
       "      <td>5</td>\n",
       "      <td>61</td>\n",
       "      <td>11</td>\n",
       "      <td>61</td>\n",
       "      <td>PM10</td>\n",
       "      <td>SEDANG</td>\n",
       "    </tr>\n",
       "    <tr>\n",
       "      <th>4</th>\n",
       "      <td>2020-08-05</td>\n",
       "      <td>DKI1 (Bunderan HI)</td>\n",
       "      <td>67</td>\n",
       "      <td>20</td>\n",
       "      <td>7</td>\n",
       "      <td>70</td>\n",
       "      <td>12</td>\n",
       "      <td>70</td>\n",
       "      <td>O3</td>\n",
       "      <td>SEDANG</td>\n",
       "    </tr>\n",
       "  </tbody>\n",
       "</table>\n",
       "</div>"
      ],
      "text/plain": [
       "      tanggal             stasiun pm10 so2  co  o3 no2  max critical categori\n",
       "0  2020-08-01  DKI1 (Bunderan HI)   65  18   7  84  13   84       O3   SEDANG\n",
       "1  2020-08-02  DKI1 (Bunderan HI)   75  17  11  77  15   77       O3   SEDANG\n",
       "2  2020-08-03  DKI1 (Bunderan HI)   71  18   9  65  11   71     PM10   SEDANG\n",
       "3  2020-08-04  DKI1 (Bunderan HI)   61  19   5  61  11   61     PM10   SEDANG\n",
       "4  2020-08-05  DKI1 (Bunderan HI)   67  20   7  70  12   70       O3   SEDANG"
      ]
     },
     "metadata": {},
     "output_type": "display_data"
    },
    {
     "data": {
      "text/html": [
       "<div>\n",
       "<style scoped>\n",
       "    .dataframe tbody tr th:only-of-type {\n",
       "        vertical-align: middle;\n",
       "    }\n",
       "\n",
       "    .dataframe tbody tr th {\n",
       "        vertical-align: top;\n",
       "    }\n",
       "\n",
       "    .dataframe thead th {\n",
       "        text-align: right;\n",
       "    }\n",
       "</style>\n",
       "<table border=\"1\" class=\"dataframe\">\n",
       "  <thead>\n",
       "    <tr style=\"text-align: right;\">\n",
       "      <th></th>\n",
       "      <th>tanggal</th>\n",
       "      <th>stasiun</th>\n",
       "      <th>pm10</th>\n",
       "      <th>so2</th>\n",
       "      <th>co</th>\n",
       "      <th>o3</th>\n",
       "      <th>no2</th>\n",
       "      <th>max</th>\n",
       "      <th>critical</th>\n",
       "      <th>categori</th>\n",
       "    </tr>\n",
       "  </thead>\n",
       "  <tbody>\n",
       "    <tr>\n",
       "      <th>150</th>\n",
       "      <td>2020-01-27</td>\n",
       "      <td>DKI5 (Kebon Jeruk) Jakarta Barat</td>\n",
       "      <td>31</td>\n",
       "      <td>14</td>\n",
       "      <td>17</td>\n",
       "      <td>58</td>\n",
       "      <td>7</td>\n",
       "      <td>58</td>\n",
       "      <td>O3</td>\n",
       "      <td>SEDANG</td>\n",
       "    </tr>\n",
       "    <tr>\n",
       "      <th>151</th>\n",
       "      <td>2020-01-28</td>\n",
       "      <td>DKI5 (Kebon Jeruk) Jakarta Barat</td>\n",
       "      <td>65</td>\n",
       "      <td>16</td>\n",
       "      <td>35</td>\n",
       "      <td>65</td>\n",
       "      <td>9</td>\n",
       "      <td>65</td>\n",
       "      <td>PM10</td>\n",
       "      <td>SEDANG</td>\n",
       "    </tr>\n",
       "    <tr>\n",
       "      <th>152</th>\n",
       "      <td>2020-01-29</td>\n",
       "      <td>DKI5 (Kebon Jeruk) Jakarta Barat</td>\n",
       "      <td>56</td>\n",
       "      <td>17</td>\n",
       "      <td>25</td>\n",
       "      <td>73</td>\n",
       "      <td>5</td>\n",
       "      <td>73</td>\n",
       "      <td>O3</td>\n",
       "      <td>SEDANG</td>\n",
       "    </tr>\n",
       "    <tr>\n",
       "      <th>153</th>\n",
       "      <td>2020-01-30</td>\n",
       "      <td>DKI5 (Kebon Jeruk) Jakarta Barat</td>\n",
       "      <td>27</td>\n",
       "      <td>19</td>\n",
       "      <td>16</td>\n",
       "      <td>61</td>\n",
       "      <td>8</td>\n",
       "      <td>61</td>\n",
       "      <td>O3</td>\n",
       "      <td>SEDANG</td>\n",
       "    </tr>\n",
       "    <tr>\n",
       "      <th>154</th>\n",
       "      <td>2020-01-31</td>\n",
       "      <td>DKI5 (Kebon Jeruk) Jakarta Barat</td>\n",
       "      <td>46</td>\n",
       "      <td>16</td>\n",
       "      <td>24</td>\n",
       "      <td>44</td>\n",
       "      <td>7</td>\n",
       "      <td>46</td>\n",
       "      <td>PM10</td>\n",
       "      <td>BAIK</td>\n",
       "    </tr>\n",
       "  </tbody>\n",
       "</table>\n",
       "</div>"
      ],
      "text/plain": [
       "        tanggal                           stasiun pm10 so2  co  o3 no2  max  \\\n",
       "150  2020-01-27  DKI5 (Kebon Jeruk) Jakarta Barat   31  14  17  58   7   58   \n",
       "151  2020-01-28  DKI5 (Kebon Jeruk) Jakarta Barat   65  16  35  65   9   65   \n",
       "152  2020-01-29  DKI5 (Kebon Jeruk) Jakarta Barat   56  17  25  73   5   73   \n",
       "153  2020-01-30  DKI5 (Kebon Jeruk) Jakarta Barat   27  19  16  61   8   61   \n",
       "154  2020-01-31  DKI5 (Kebon Jeruk) Jakarta Barat   46  16  24  44   7   46   \n",
       "\n",
       "    critical categori  \n",
       "150       O3   SEDANG  \n",
       "151     PM10   SEDANG  \n",
       "152       O3   SEDANG  \n",
       "153       O3   SEDANG  \n",
       "154     PM10     BAIK  "
      ]
     },
     "metadata": {},
     "output_type": "display_data"
    },
    {
     "data": {
      "text/html": [
       "<div>\n",
       "<style scoped>\n",
       "    .dataframe tbody tr th:only-of-type {\n",
       "        vertical-align: middle;\n",
       "    }\n",
       "\n",
       "    .dataframe tbody tr th {\n",
       "        vertical-align: top;\n",
       "    }\n",
       "\n",
       "    .dataframe thead th {\n",
       "        text-align: right;\n",
       "    }\n",
       "</style>\n",
       "<table border=\"1\" class=\"dataframe\">\n",
       "  <thead>\n",
       "    <tr style=\"text-align: right;\">\n",
       "      <th></th>\n",
       "      <th>tanggal</th>\n",
       "      <th>stasiun</th>\n",
       "      <th>pm10</th>\n",
       "      <th>so2</th>\n",
       "      <th>co</th>\n",
       "      <th>o3</th>\n",
       "      <th>no2</th>\n",
       "      <th>max</th>\n",
       "      <th>critical</th>\n",
       "      <th>categori</th>\n",
       "    </tr>\n",
       "  </thead>\n",
       "  <tbody>\n",
       "    <tr>\n",
       "      <th>150</th>\n",
       "      <td>2020-05-27</td>\n",
       "      <td>DKI5 (Kebon Jeruk) Jakarta Barat</td>\n",
       "      <td>24</td>\n",
       "      <td>8</td>\n",
       "      <td>5</td>\n",
       "      <td>74</td>\n",
       "      <td>3</td>\n",
       "      <td>74</td>\n",
       "      <td>O3</td>\n",
       "      <td>SEDANG</td>\n",
       "    </tr>\n",
       "    <tr>\n",
       "      <th>151</th>\n",
       "      <td>2020-05-28</td>\n",
       "      <td>DKI5 (Kebon Jeruk) Jakarta Barat</td>\n",
       "      <td>32</td>\n",
       "      <td>9</td>\n",
       "      <td>7</td>\n",
       "      <td>136</td>\n",
       "      <td>7</td>\n",
       "      <td>136</td>\n",
       "      <td>O3</td>\n",
       "      <td>TIDAK SEHAT</td>\n",
       "    </tr>\n",
       "    <tr>\n",
       "      <th>152</th>\n",
       "      <td>2020-05-29</td>\n",
       "      <td>DKI5 (Kebon Jeruk) Jakarta Barat</td>\n",
       "      <td>48</td>\n",
       "      <td>12</td>\n",
       "      <td>9</td>\n",
       "      <td>134</td>\n",
       "      <td>8</td>\n",
       "      <td>134</td>\n",
       "      <td>O3</td>\n",
       "      <td>TIDAK SEHAT</td>\n",
       "    </tr>\n",
       "    <tr>\n",
       "      <th>153</th>\n",
       "      <td>2020-05-30</td>\n",
       "      <td>DKI5 (Kebon Jeruk) Jakarta Barat</td>\n",
       "      <td>48</td>\n",
       "      <td>11</td>\n",
       "      <td>18</td>\n",
       "      <td>73</td>\n",
       "      <td>9</td>\n",
       "      <td>73</td>\n",
       "      <td>O3</td>\n",
       "      <td>SEDANG</td>\n",
       "    </tr>\n",
       "    <tr>\n",
       "      <th>154</th>\n",
       "      <td>2020-05-31</td>\n",
       "      <td>DKI5 (Kebon Jeruk) Jakarta Barat</td>\n",
       "      <td>52</td>\n",
       "      <td>9</td>\n",
       "      <td>17</td>\n",
       "      <td>66</td>\n",
       "      <td>9</td>\n",
       "      <td>66</td>\n",
       "      <td>O3</td>\n",
       "      <td>SEDANG</td>\n",
       "    </tr>\n",
       "  </tbody>\n",
       "</table>\n",
       "</div>"
      ],
      "text/plain": [
       "        tanggal                           stasiun pm10 so2  co   o3 no2  max  \\\n",
       "150  2020-05-27  DKI5 (Kebon Jeruk) Jakarta Barat   24   8   5   74   3   74   \n",
       "151  2020-05-28  DKI5 (Kebon Jeruk) Jakarta Barat   32   9   7  136   7  136   \n",
       "152  2020-05-29  DKI5 (Kebon Jeruk) Jakarta Barat   48  12   9  134   8  134   \n",
       "153  2020-05-30  DKI5 (Kebon Jeruk) Jakarta Barat   48  11  18   73   9   73   \n",
       "154  2020-05-31  DKI5 (Kebon Jeruk) Jakarta Barat   52   9  17   66   9   66   \n",
       "\n",
       "    critical     categori  \n",
       "150       O3       SEDANG  \n",
       "151       O3  TIDAK SEHAT  \n",
       "152       O3  TIDAK SEHAT  \n",
       "153       O3       SEDANG  \n",
       "154       O3       SEDANG  "
      ]
     },
     "metadata": {},
     "output_type": "display_data"
    },
    {
     "data": {
      "text/html": [
       "<div>\n",
       "<style scoped>\n",
       "    .dataframe tbody tr th:only-of-type {\n",
       "        vertical-align: middle;\n",
       "    }\n",
       "\n",
       "    .dataframe tbody tr th {\n",
       "        vertical-align: top;\n",
       "    }\n",
       "\n",
       "    .dataframe thead th {\n",
       "        text-align: right;\n",
       "    }\n",
       "</style>\n",
       "<table border=\"1\" class=\"dataframe\">\n",
       "  <thead>\n",
       "    <tr style=\"text-align: right;\">\n",
       "      <th></th>\n",
       "      <th>tanggal</th>\n",
       "      <th>stasiun</th>\n",
       "      <th>pm10</th>\n",
       "      <th>so2</th>\n",
       "      <th>co</th>\n",
       "      <th>o3</th>\n",
       "      <th>no2</th>\n",
       "      <th>max</th>\n",
       "      <th>critical</th>\n",
       "      <th>categori</th>\n",
       "    </tr>\n",
       "  </thead>\n",
       "  <tbody>\n",
       "    <tr>\n",
       "      <th>150</th>\n",
       "      <td>2020-07-27</td>\n",
       "      <td>DKI5 (Kebon Jeruk) Jakarta Barat</td>\n",
       "      <td>53</td>\n",
       "      <td>19</td>\n",
       "      <td>11</td>\n",
       "      <td>89</td>\n",
       "      <td>6</td>\n",
       "      <td>89</td>\n",
       "      <td>O3</td>\n",
       "      <td>SEDANG</td>\n",
       "    </tr>\n",
       "    <tr>\n",
       "      <th>151</th>\n",
       "      <td>2020-07-28</td>\n",
       "      <td>DKI5 (Kebon Jeruk) Jakarta Barat</td>\n",
       "      <td>70</td>\n",
       "      <td>18</td>\n",
       "      <td>21</td>\n",
       "      <td>160</td>\n",
       "      <td>10</td>\n",
       "      <td>160</td>\n",
       "      <td>O3</td>\n",
       "      <td>TIDAK SEHAT</td>\n",
       "    </tr>\n",
       "    <tr>\n",
       "      <th>152</th>\n",
       "      <td>2020-07-29</td>\n",
       "      <td>DKI5 (Kebon Jeruk) Jakarta Barat</td>\n",
       "      <td>67</td>\n",
       "      <td>18</td>\n",
       "      <td>17</td>\n",
       "      <td>164</td>\n",
       "      <td>12</td>\n",
       "      <td>164</td>\n",
       "      <td>O3</td>\n",
       "      <td>TIDAK SEHAT</td>\n",
       "    </tr>\n",
       "    <tr>\n",
       "      <th>153</th>\n",
       "      <td>2020-07-30</td>\n",
       "      <td>DKI5 (Kebon Jeruk) Jakarta Barat</td>\n",
       "      <td>66</td>\n",
       "      <td>17</td>\n",
       "      <td>13</td>\n",
       "      <td>91</td>\n",
       "      <td>5</td>\n",
       "      <td>91</td>\n",
       "      <td>O3</td>\n",
       "      <td>SEDANG</td>\n",
       "    </tr>\n",
       "    <tr>\n",
       "      <th>154</th>\n",
       "      <td>2020-07-31</td>\n",
       "      <td>DKI5 (Kebon Jeruk) Jakarta Barat</td>\n",
       "      <td>47</td>\n",
       "      <td>17</td>\n",
       "      <td>10</td>\n",
       "      <td>82</td>\n",
       "      <td>5</td>\n",
       "      <td>82</td>\n",
       "      <td>O3</td>\n",
       "      <td>SEDANG</td>\n",
       "    </tr>\n",
       "  </tbody>\n",
       "</table>\n",
       "</div>"
      ],
      "text/plain": [
       "        tanggal                           stasiun pm10 so2  co   o3 no2  max  \\\n",
       "150  2020-07-27  DKI5 (Kebon Jeruk) Jakarta Barat   53  19  11   89   6   89   \n",
       "151  2020-07-28  DKI5 (Kebon Jeruk) Jakarta Barat   70  18  21  160  10  160   \n",
       "152  2020-07-29  DKI5 (Kebon Jeruk) Jakarta Barat   67  18  17  164  12  164   \n",
       "153  2020-07-30  DKI5 (Kebon Jeruk) Jakarta Barat   66  17  13   91   5   91   \n",
       "154  2020-07-31  DKI5 (Kebon Jeruk) Jakarta Barat   47  17  10   82   5   82   \n",
       "\n",
       "    critical     categori  \n",
       "150       O3       SEDANG  \n",
       "151       O3  TIDAK SEHAT  \n",
       "152       O3  TIDAK SEHAT  \n",
       "153       O3       SEDANG  \n",
       "154       O3       SEDANG  "
      ]
     },
     "metadata": {},
     "output_type": "display_data"
    },
    {
     "data": {
      "text/html": [
       "<div>\n",
       "<style scoped>\n",
       "    .dataframe tbody tr th:only-of-type {\n",
       "        vertical-align: middle;\n",
       "    }\n",
       "\n",
       "    .dataframe tbody tr th {\n",
       "        vertical-align: top;\n",
       "    }\n",
       "\n",
       "    .dataframe thead th {\n",
       "        text-align: right;\n",
       "    }\n",
       "</style>\n",
       "<table border=\"1\" class=\"dataframe\">\n",
       "  <thead>\n",
       "    <tr style=\"text-align: right;\">\n",
       "      <th></th>\n",
       "      <th>tanggal</th>\n",
       "      <th>stasiun</th>\n",
       "      <th>pm10</th>\n",
       "      <th>so2</th>\n",
       "      <th>co</th>\n",
       "      <th>o3</th>\n",
       "      <th>no2</th>\n",
       "      <th>max</th>\n",
       "      <th>critical</th>\n",
       "      <th>categori</th>\n",
       "    </tr>\n",
       "  </thead>\n",
       "  <tbody>\n",
       "    <tr>\n",
       "      <th>150</th>\n",
       "      <td>2020-08-27</td>\n",
       "      <td>DKI5 (Kebon Jeruk) Jakarta Barat</td>\n",
       "      <td>51</td>\n",
       "      <td>19</td>\n",
       "      <td>8</td>\n",
       "      <td>80</td>\n",
       "      <td>4</td>\n",
       "      <td>80</td>\n",
       "      <td>O3</td>\n",
       "      <td>SEDANG</td>\n",
       "    </tr>\n",
       "    <tr>\n",
       "      <th>151</th>\n",
       "      <td>2020-08-28</td>\n",
       "      <td>DKI5 (Kebon Jeruk) Jakarta Barat</td>\n",
       "      <td>57</td>\n",
       "      <td>18</td>\n",
       "      <td>15</td>\n",
       "      <td>67</td>\n",
       "      <td>9</td>\n",
       "      <td>67</td>\n",
       "      <td>O3</td>\n",
       "      <td>SEDANG</td>\n",
       "    </tr>\n",
       "    <tr>\n",
       "      <th>152</th>\n",
       "      <td>2020-08-29</td>\n",
       "      <td>DKI5 (Kebon Jeruk) Jakarta Barat</td>\n",
       "      <td>54</td>\n",
       "      <td>19</td>\n",
       "      <td>12</td>\n",
       "      <td>71</td>\n",
       "      <td>6</td>\n",
       "      <td>71</td>\n",
       "      <td>O3</td>\n",
       "      <td>SEDANG</td>\n",
       "    </tr>\n",
       "    <tr>\n",
       "      <th>153</th>\n",
       "      <td>2020-08-30</td>\n",
       "      <td>DKI5 (Kebon Jeruk) Jakarta Barat</td>\n",
       "      <td>55</td>\n",
       "      <td>21</td>\n",
       "      <td>14</td>\n",
       "      <td>79</td>\n",
       "      <td>6</td>\n",
       "      <td>79</td>\n",
       "      <td>O3</td>\n",
       "      <td>SEDANG</td>\n",
       "    </tr>\n",
       "    <tr>\n",
       "      <th>154</th>\n",
       "      <td>2020-08-31</td>\n",
       "      <td>DKI5 (Kebon Jeruk) Jakarta Barat</td>\n",
       "      <td>57</td>\n",
       "      <td>20</td>\n",
       "      <td>12</td>\n",
       "      <td>134</td>\n",
       "      <td>7</td>\n",
       "      <td>134</td>\n",
       "      <td>O3</td>\n",
       "      <td>TIDAK SEHAT</td>\n",
       "    </tr>\n",
       "  </tbody>\n",
       "</table>\n",
       "</div>"
      ],
      "text/plain": [
       "        tanggal                           stasiun pm10 so2  co   o3 no2  max  \\\n",
       "150  2020-08-27  DKI5 (Kebon Jeruk) Jakarta Barat   51  19   8   80   4   80   \n",
       "151  2020-08-28  DKI5 (Kebon Jeruk) Jakarta Barat   57  18  15   67   9   67   \n",
       "152  2020-08-29  DKI5 (Kebon Jeruk) Jakarta Barat   54  19  12   71   6   71   \n",
       "153  2020-08-30  DKI5 (Kebon Jeruk) Jakarta Barat   55  21  14   79   6   79   \n",
       "154  2020-08-31  DKI5 (Kebon Jeruk) Jakarta Barat   57  20  12  134   7  134   \n",
       "\n",
       "    critical     categori  \n",
       "150       O3       SEDANG  \n",
       "151       O3       SEDANG  \n",
       "152       O3       SEDANG  \n",
       "153       O3       SEDANG  \n",
       "154       O3  TIDAK SEHAT  "
      ]
     },
     "metadata": {},
     "output_type": "display_data"
    }
   ],
   "source": [
    "# cek data that have 155 data except maret, because data maret has 155 data\n",
    "display( ispu_jan2.head(), ispu_mei2.head(),ispu_jul2.head(), ispu_ags2.head(), #head\n",
    "        ispu_jan2.tail(), ispu_mei2.tail(),ispu_jul2.tail(), ispu_ags2.tail() #tail\n",
    "        )"
   ]
  },
  {
   "cell_type": "code",
   "execution_count": 11,
   "id": "tu8S72xOucP1",
   "metadata": {
    "id": "tu8S72xOucP1"
   },
   "outputs": [],
   "source": [
    "# samakan isi stasiun maret dengan salah satu isi stasiun yang memiliki 155 row, kita memakai data januari\n",
    "# dan kemudian timpa isi value dari pm10 sampai max menjadi nilai stasiun sampai no2\n",
    "ispu_mar2['max'] = ispu_mar2['no2']\n",
    "ispu_mar2['no2'] = ispu_mar2['o3']\n",
    "ispu_mar2['o3'] = ispu_mar2['co']\n",
    "ispu_mar2['co'] = ispu_mar2['so2']\n",
    "ispu_mar2['so2'] = ispu_mar2['pm10']\n",
    "ispu_mar2['pm10'] = ispu_mar2['stasiun'] \n",
    "ispu_mar2['stasiun'] = ispu_jan2['stasiun']"
   ]
  },
  {
   "cell_type": "code",
   "execution_count": 12,
   "id": "5d4e11f2",
   "metadata": {
    "colab": {
     "base_uri": "https://localhost:8080/",
     "height": 363
    },
    "id": "5d4e11f2",
    "outputId": "46f65ed4-44b1-4d0f-872a-232e6f1713d3"
   },
   "outputs": [
    {
     "data": {
      "text/html": [
       "<div>\n",
       "<style scoped>\n",
       "    .dataframe tbody tr th:only-of-type {\n",
       "        vertical-align: middle;\n",
       "    }\n",
       "\n",
       "    .dataframe tbody tr th {\n",
       "        vertical-align: top;\n",
       "    }\n",
       "\n",
       "    .dataframe thead th {\n",
       "        text-align: right;\n",
       "    }\n",
       "</style>\n",
       "<table border=\"1\" class=\"dataframe\">\n",
       "  <thead>\n",
       "    <tr style=\"text-align: right;\">\n",
       "      <th></th>\n",
       "      <th>tanggal</th>\n",
       "      <th>stasiun</th>\n",
       "      <th>pm10</th>\n",
       "      <th>so2</th>\n",
       "      <th>co</th>\n",
       "      <th>o3</th>\n",
       "      <th>no2</th>\n",
       "      <th>max</th>\n",
       "      <th>critical</th>\n",
       "      <th>categori</th>\n",
       "    </tr>\n",
       "  </thead>\n",
       "  <tbody>\n",
       "    <tr>\n",
       "      <th>1820</th>\n",
       "      <td>2020-12-22</td>\n",
       "      <td>DKI5 (Kebon Jeruk) Jakarta Barat</td>\n",
       "      <td>19</td>\n",
       "      <td>29</td>\n",
       "      <td>5</td>\n",
       "      <td>39</td>\n",
       "      <td>2</td>\n",
       "      <td>39.0</td>\n",
       "      <td>CO</td>\n",
       "      <td>BAIK</td>\n",
       "    </tr>\n",
       "    <tr>\n",
       "      <th>1821</th>\n",
       "      <td>2020-12-23</td>\n",
       "      <td>DKI5 (Kebon Jeruk) Jakarta Barat</td>\n",
       "      <td>32</td>\n",
       "      <td>30</td>\n",
       "      <td>9</td>\n",
       "      <td>34</td>\n",
       "      <td>3</td>\n",
       "      <td>34.0</td>\n",
       "      <td>CO</td>\n",
       "      <td>BAIK</td>\n",
       "    </tr>\n",
       "    <tr>\n",
       "      <th>1822</th>\n",
       "      <td>2020-12-24</td>\n",
       "      <td>DKI5 (Kebon Jeruk) Jakarta Barat</td>\n",
       "      <td>29</td>\n",
       "      <td>31</td>\n",
       "      <td>9</td>\n",
       "      <td>28</td>\n",
       "      <td>2</td>\n",
       "      <td>31.0</td>\n",
       "      <td>PM25</td>\n",
       "      <td>BAIK</td>\n",
       "    </tr>\n",
       "    <tr>\n",
       "      <th>1823</th>\n",
       "      <td>2020-12-25</td>\n",
       "      <td>DKI5 (Kebon Jeruk) Jakarta Barat</td>\n",
       "      <td>24</td>\n",
       "      <td>27</td>\n",
       "      <td>7</td>\n",
       "      <td>18</td>\n",
       "      <td>3</td>\n",
       "      <td>27.0</td>\n",
       "      <td>PM25</td>\n",
       "      <td>BAIK</td>\n",
       "    </tr>\n",
       "    <tr>\n",
       "      <th>1824</th>\n",
       "      <td>2020-12-26</td>\n",
       "      <td>DKI5 (Kebon Jeruk) Jakarta Barat</td>\n",
       "      <td>17</td>\n",
       "      <td>33</td>\n",
       "      <td>4</td>\n",
       "      <td>26</td>\n",
       "      <td>---</td>\n",
       "      <td>33.0</td>\n",
       "      <td>PM25</td>\n",
       "      <td>BAIK</td>\n",
       "    </tr>\n",
       "    <tr>\n",
       "      <th>1825</th>\n",
       "      <td>2020-12-27</td>\n",
       "      <td>DKI5 (Kebon Jeruk) Jakarta Barat</td>\n",
       "      <td>18</td>\n",
       "      <td>32</td>\n",
       "      <td>4</td>\n",
       "      <td>41</td>\n",
       "      <td>---</td>\n",
       "      <td>41.0</td>\n",
       "      <td>CO</td>\n",
       "      <td>BAIK</td>\n",
       "    </tr>\n",
       "    <tr>\n",
       "      <th>1826</th>\n",
       "      <td>2020-12-28</td>\n",
       "      <td>DKI5 (Kebon Jeruk) Jakarta Barat</td>\n",
       "      <td>22</td>\n",
       "      <td>33</td>\n",
       "      <td>5</td>\n",
       "      <td>35</td>\n",
       "      <td>3</td>\n",
       "      <td>35.0</td>\n",
       "      <td>CO</td>\n",
       "      <td>BAIK</td>\n",
       "    </tr>\n",
       "    <tr>\n",
       "      <th>1827</th>\n",
       "      <td>2020-12-29</td>\n",
       "      <td>DKI5 (Kebon Jeruk) Jakarta Barat</td>\n",
       "      <td>15</td>\n",
       "      <td>28</td>\n",
       "      <td>4</td>\n",
       "      <td>27</td>\n",
       "      <td>---</td>\n",
       "      <td>28.0</td>\n",
       "      <td>PM25</td>\n",
       "      <td>BAIK</td>\n",
       "    </tr>\n",
       "    <tr>\n",
       "      <th>1828</th>\n",
       "      <td>2020-12-30</td>\n",
       "      <td>DKI5 (Kebon Jeruk) Jakarta Barat</td>\n",
       "      <td>16</td>\n",
       "      <td>7</td>\n",
       "      <td>3</td>\n",
       "      <td>21</td>\n",
       "      <td>2</td>\n",
       "      <td>21.0</td>\n",
       "      <td>CO</td>\n",
       "      <td>BAIK</td>\n",
       "    </tr>\n",
       "    <tr>\n",
       "      <th>1829</th>\n",
       "      <td>2020-12-31</td>\n",
       "      <td>DKI5 (Kebon Jeruk) Jakarta Barat</td>\n",
       "      <td>18</td>\n",
       "      <td>13</td>\n",
       "      <td>6</td>\n",
       "      <td>24</td>\n",
       "      <td>3</td>\n",
       "      <td>24.0</td>\n",
       "      <td>CO</td>\n",
       "      <td>BAIK</td>\n",
       "    </tr>\n",
       "  </tbody>\n",
       "</table>\n",
       "</div>"
      ],
      "text/plain": [
       "         tanggal                           stasiun pm10 so2 co  o3  no2   max  \\\n",
       "1820  2020-12-22  DKI5 (Kebon Jeruk) Jakarta Barat   19  29  5  39    2  39.0   \n",
       "1821  2020-12-23  DKI5 (Kebon Jeruk) Jakarta Barat   32  30  9  34    3  34.0   \n",
       "1822  2020-12-24  DKI5 (Kebon Jeruk) Jakarta Barat   29  31  9  28    2  31.0   \n",
       "1823  2020-12-25  DKI5 (Kebon Jeruk) Jakarta Barat   24  27  7  18    3  27.0   \n",
       "1824  2020-12-26  DKI5 (Kebon Jeruk) Jakarta Barat   17  33  4  26  ---  33.0   \n",
       "1825  2020-12-27  DKI5 (Kebon Jeruk) Jakarta Barat   18  32  4  41  ---  41.0   \n",
       "1826  2020-12-28  DKI5 (Kebon Jeruk) Jakarta Barat   22  33  5  35    3  35.0   \n",
       "1827  2020-12-29  DKI5 (Kebon Jeruk) Jakarta Barat   15  28  4  27  ---  28.0   \n",
       "1828  2020-12-30  DKI5 (Kebon Jeruk) Jakarta Barat   16   7  3  21    2  21.0   \n",
       "1829  2020-12-31  DKI5 (Kebon Jeruk) Jakarta Barat   18  13  6  24    3  24.0   \n",
       "\n",
       "     critical categori  \n",
       "1820       CO     BAIK  \n",
       "1821       CO     BAIK  \n",
       "1822     PM25     BAIK  \n",
       "1823     PM25     BAIK  \n",
       "1824     PM25     BAIK  \n",
       "1825       CO     BAIK  \n",
       "1826       CO     BAIK  \n",
       "1827     PM25     BAIK  \n",
       "1828       CO     BAIK  \n",
       "1829       CO     BAIK  "
      ]
     },
     "execution_count": 12,
     "metadata": {},
     "output_type": "execute_result"
    }
   ],
   "source": [
    "# setelah itu, gabungkan data jenis kedua dengan data september sampai desember\n",
    "df_ISPU = ispu_jan2.append([ispu_feb2, ispu_mar2, ispu_apr2, ispu_mei2, ispu_jun2, ispu_jul2, ispu_ags2, ispu_sep, ispu_okt, ispu_nov, ispu_des], ignore_index = True)\n",
    "df_ISPU.tail(10)"
   ]
  },
  {
   "cell_type": "code",
   "execution_count": 13,
   "id": "42c03231",
   "metadata": {
    "colab": {
     "base_uri": "https://localhost:8080/",
     "height": 206
    },
    "id": "42c03231",
    "outputId": "4ab1730d-f23f-4554-d5fa-79c905d16e05"
   },
   "outputs": [
    {
     "data": {
      "text/html": [
       "<div>\n",
       "<style scoped>\n",
       "    .dataframe tbody tr th:only-of-type {\n",
       "        vertical-align: middle;\n",
       "    }\n",
       "\n",
       "    .dataframe tbody tr th {\n",
       "        vertical-align: top;\n",
       "    }\n",
       "\n",
       "    .dataframe thead th {\n",
       "        text-align: right;\n",
       "    }\n",
       "</style>\n",
       "<table border=\"1\" class=\"dataframe\">\n",
       "  <thead>\n",
       "    <tr style=\"text-align: right;\">\n",
       "      <th></th>\n",
       "      <th>tanggal</th>\n",
       "      <th>stasiun</th>\n",
       "      <th>pm10</th>\n",
       "      <th>so2</th>\n",
       "      <th>co</th>\n",
       "      <th>o3</th>\n",
       "      <th>no2</th>\n",
       "      <th>max</th>\n",
       "      <th>critical</th>\n",
       "      <th>categori</th>\n",
       "    </tr>\n",
       "  </thead>\n",
       "  <tbody>\n",
       "    <tr>\n",
       "      <th>1825</th>\n",
       "      <td>2020-12-27</td>\n",
       "      <td>DKI5 (Kebon Jeruk) Jakarta Barat</td>\n",
       "      <td>18</td>\n",
       "      <td>32</td>\n",
       "      <td>4</td>\n",
       "      <td>41</td>\n",
       "      <td>---</td>\n",
       "      <td>41.0</td>\n",
       "      <td>CO</td>\n",
       "      <td>BAIK</td>\n",
       "    </tr>\n",
       "    <tr>\n",
       "      <th>1826</th>\n",
       "      <td>2020-12-28</td>\n",
       "      <td>DKI5 (Kebon Jeruk) Jakarta Barat</td>\n",
       "      <td>22</td>\n",
       "      <td>33</td>\n",
       "      <td>5</td>\n",
       "      <td>35</td>\n",
       "      <td>3</td>\n",
       "      <td>35.0</td>\n",
       "      <td>CO</td>\n",
       "      <td>BAIK</td>\n",
       "    </tr>\n",
       "    <tr>\n",
       "      <th>1827</th>\n",
       "      <td>2020-12-29</td>\n",
       "      <td>DKI5 (Kebon Jeruk) Jakarta Barat</td>\n",
       "      <td>15</td>\n",
       "      <td>28</td>\n",
       "      <td>4</td>\n",
       "      <td>27</td>\n",
       "      <td>---</td>\n",
       "      <td>28.0</td>\n",
       "      <td>PM25</td>\n",
       "      <td>BAIK</td>\n",
       "    </tr>\n",
       "    <tr>\n",
       "      <th>1828</th>\n",
       "      <td>2020-12-30</td>\n",
       "      <td>DKI5 (Kebon Jeruk) Jakarta Barat</td>\n",
       "      <td>16</td>\n",
       "      <td>7</td>\n",
       "      <td>3</td>\n",
       "      <td>21</td>\n",
       "      <td>2</td>\n",
       "      <td>21.0</td>\n",
       "      <td>CO</td>\n",
       "      <td>BAIK</td>\n",
       "    </tr>\n",
       "    <tr>\n",
       "      <th>1829</th>\n",
       "      <td>2020-12-31</td>\n",
       "      <td>DKI5 (Kebon Jeruk) Jakarta Barat</td>\n",
       "      <td>18</td>\n",
       "      <td>13</td>\n",
       "      <td>6</td>\n",
       "      <td>24</td>\n",
       "      <td>3</td>\n",
       "      <td>24.0</td>\n",
       "      <td>CO</td>\n",
       "      <td>BAIK</td>\n",
       "    </tr>\n",
       "  </tbody>\n",
       "</table>\n",
       "</div>"
      ],
      "text/plain": [
       "         tanggal                           stasiun pm10 so2 co  o3  no2   max  \\\n",
       "1825  2020-12-27  DKI5 (Kebon Jeruk) Jakarta Barat   18  32  4  41  ---  41.0   \n",
       "1826  2020-12-28  DKI5 (Kebon Jeruk) Jakarta Barat   22  33  5  35    3  35.0   \n",
       "1827  2020-12-29  DKI5 (Kebon Jeruk) Jakarta Barat   15  28  4  27  ---  28.0   \n",
       "1828  2020-12-30  DKI5 (Kebon Jeruk) Jakarta Barat   16   7  3  21    2  21.0   \n",
       "1829  2020-12-31  DKI5 (Kebon Jeruk) Jakarta Barat   18  13  6  24    3  24.0   \n",
       "\n",
       "     critical categori  \n",
       "1825       CO     BAIK  \n",
       "1826       CO     BAIK  \n",
       "1827     PM25     BAIK  \n",
       "1828       CO     BAIK  \n",
       "1829       CO     BAIK  "
      ]
     },
     "execution_count": 13,
     "metadata": {},
     "output_type": "execute_result"
    }
   ],
   "source": [
    "df_ISPU.tail(5)"
   ]
  },
  {
   "cell_type": "code",
   "execution_count": 14,
   "id": "gyhnJ2fB20_t",
   "metadata": {
    "id": "gyhnJ2fB20_t"
   },
   "outputs": [],
   "source": [
    "# karena ada \"---\", maka diganti 0\n",
    "df_ISPU['no2'].replace(['---'], '0', inplace=True)"
   ]
  },
  {
   "cell_type": "markdown",
   "id": "aad8a351",
   "metadata": {
    "id": "aad8a351"
   },
   "source": [
    "### 3. Exploratory Data Analyst (EDA)"
   ]
  },
  {
   "cell_type": "markdown",
   "id": "aba45b7f",
   "metadata": {
    "id": "aba45b7f"
   },
   "source": [
    "#### Firstly, getting info from the data"
   ]
  },
  {
   "cell_type": "code",
   "execution_count": 15,
   "id": "60fcc707",
   "metadata": {
    "colab": {
     "base_uri": "https://localhost:8080/"
    },
    "id": "60fcc707",
    "outputId": "424bffb7-13d5-48c9-e004-3112d27ed9ec"
   },
   "outputs": [
    {
     "name": "stdout",
     "output_type": "stream",
     "text": [
      "<class 'pandas.core.frame.DataFrame'>\n",
      "RangeIndex: 1830 entries, 0 to 1829\n",
      "Data columns (total 10 columns):\n",
      " #   Column    Non-Null Count  Dtype  \n",
      "---  ------    --------------  -----  \n",
      " 0   tanggal   1830 non-null   object \n",
      " 1   stasiun   1830 non-null   object \n",
      " 2   pm10      1830 non-null   object \n",
      " 3   so2       1830 non-null   object \n",
      " 4   co        1830 non-null   object \n",
      " 5   o3        1830 non-null   object \n",
      " 6   no2       1830 non-null   object \n",
      " 7   max       1829 non-null   float64\n",
      " 8   critical  1814 non-null   object \n",
      " 9   categori  1830 non-null   object \n",
      "dtypes: float64(1), object(9)\n",
      "memory usage: 143.1+ KB\n"
     ]
    }
   ],
   "source": [
    "df_ISPU.info()"
   ]
  },
  {
   "cell_type": "markdown",
   "id": "oO6NpvoXCK_B",
   "metadata": {
    "id": "oO6NpvoXCK_B"
   },
   "source": [
    "dikarenakan count pada info berbeda, maka cek apakah terdapat null"
   ]
  },
  {
   "cell_type": "code",
   "execution_count": 16,
   "id": "5pwVfjPP4RL9",
   "metadata": {
    "colab": {
     "base_uri": "https://localhost:8080/"
    },
    "id": "5pwVfjPP4RL9",
    "outputId": "159df496-30ec-4d6a-8678-8150c4945e61"
   },
   "outputs": [
    {
     "data": {
      "text/plain": [
       "tanggal      0\n",
       "stasiun      0\n",
       "pm10         0\n",
       "so2          0\n",
       "co           0\n",
       "o3           0\n",
       "no2          0\n",
       "max          1\n",
       "critical    16\n",
       "categori     0\n",
       "dtype: int64"
      ]
     },
     "execution_count": 16,
     "metadata": {},
     "output_type": "execute_result"
    }
   ],
   "source": [
    "# check null\n",
    "df_ISPU.isnull().sum()"
   ]
  },
  {
   "cell_type": "code",
   "execution_count": 17,
   "id": "AnRt0Lm24Y5J",
   "metadata": {
    "colab": {
     "base_uri": "https://localhost:8080/",
     "height": 551
    },
    "id": "AnRt0Lm24Y5J",
    "outputId": "5ba0137a-811c-4a47-8a3e-399221afbc73"
   },
   "outputs": [
    {
     "data": {
      "text/html": [
       "<div>\n",
       "<style scoped>\n",
       "    .dataframe tbody tr th:only-of-type {\n",
       "        vertical-align: middle;\n",
       "    }\n",
       "\n",
       "    .dataframe tbody tr th {\n",
       "        vertical-align: top;\n",
       "    }\n",
       "\n",
       "    .dataframe thead th {\n",
       "        text-align: right;\n",
       "    }\n",
       "</style>\n",
       "<table border=\"1\" class=\"dataframe\">\n",
       "  <thead>\n",
       "    <tr style=\"text-align: right;\">\n",
       "      <th></th>\n",
       "      <th>tanggal</th>\n",
       "      <th>stasiun</th>\n",
       "      <th>pm10</th>\n",
       "      <th>so2</th>\n",
       "      <th>co</th>\n",
       "      <th>o3</th>\n",
       "      <th>no2</th>\n",
       "      <th>max</th>\n",
       "      <th>critical</th>\n",
       "      <th>categori</th>\n",
       "    </tr>\n",
       "  </thead>\n",
       "  <tbody>\n",
       "    <tr>\n",
       "      <th>197</th>\n",
       "      <td>2020-02-14</td>\n",
       "      <td>DKI2 (Kelapa Gading)</td>\n",
       "      <td>---</td>\n",
       "      <td>---</td>\n",
       "      <td>---</td>\n",
       "      <td>---</td>\n",
       "      <td>0</td>\n",
       "      <td>0.0</td>\n",
       "      <td>NaN</td>\n",
       "      <td>TIDAK ADA DATA</td>\n",
       "    </tr>\n",
       "    <tr>\n",
       "      <th>248</th>\n",
       "      <td>2020-02-07</td>\n",
       "      <td>DKI4 (Lubang Buaya)</td>\n",
       "      <td>---</td>\n",
       "      <td>---</td>\n",
       "      <td>---</td>\n",
       "      <td>---</td>\n",
       "      <td>0</td>\n",
       "      <td>0.0</td>\n",
       "      <td>NaN</td>\n",
       "      <td>TIDAK ADA DATA</td>\n",
       "    </tr>\n",
       "    <tr>\n",
       "      <th>372</th>\n",
       "      <td>2020-03-11</td>\n",
       "      <td>DKI3 (Jagakarsa)</td>\n",
       "      <td>---</td>\n",
       "      <td>---</td>\n",
       "      <td>---</td>\n",
       "      <td>---</td>\n",
       "      <td>0</td>\n",
       "      <td>0.0</td>\n",
       "      <td>NaN</td>\n",
       "      <td>TIDAK ADA DATA</td>\n",
       "    </tr>\n",
       "    <tr>\n",
       "      <th>404</th>\n",
       "      <td>2020-03-12</td>\n",
       "      <td>DKI4 (Lubang Buaya)</td>\n",
       "      <td>---</td>\n",
       "      <td>---</td>\n",
       "      <td>---</td>\n",
       "      <td>---</td>\n",
       "      <td>0</td>\n",
       "      <td>0.0</td>\n",
       "      <td>NaN</td>\n",
       "      <td>TIDAK ADA DATA</td>\n",
       "    </tr>\n",
       "    <tr>\n",
       "      <th>423</th>\n",
       "      <td>2020-03-31</td>\n",
       "      <td>DKI4 (Lubang Buaya)</td>\n",
       "      <td>---</td>\n",
       "      <td>---</td>\n",
       "      <td>---</td>\n",
       "      <td>---</td>\n",
       "      <td>0</td>\n",
       "      <td>0.0</td>\n",
       "      <td>NaN</td>\n",
       "      <td>TIDAK ADA DATA</td>\n",
       "    </tr>\n",
       "    <tr>\n",
       "      <th>728</th>\n",
       "      <td>2020-05-31</td>\n",
       "      <td>DKI4 (Lubang Buaya)</td>\n",
       "      <td>---</td>\n",
       "      <td>---</td>\n",
       "      <td>---</td>\n",
       "      <td>---</td>\n",
       "      <td>0</td>\n",
       "      <td>0.0</td>\n",
       "      <td>NaN</td>\n",
       "      <td>TIDAK ADA DATA</td>\n",
       "    </tr>\n",
       "    <tr>\n",
       "      <th>859</th>\n",
       "      <td>2020-06-06</td>\n",
       "      <td>DKI4 (Lubang Buaya)</td>\n",
       "      <td>---</td>\n",
       "      <td>---</td>\n",
       "      <td>---</td>\n",
       "      <td>---</td>\n",
       "      <td>0</td>\n",
       "      <td>0.0</td>\n",
       "      <td>NaN</td>\n",
       "      <td>TIDAK ADA DATA</td>\n",
       "    </tr>\n",
       "    <tr>\n",
       "      <th>1022</th>\n",
       "      <td>2020-07-20</td>\n",
       "      <td>DKI4 (Lubang Buaya)</td>\n",
       "      <td>---</td>\n",
       "      <td>---</td>\n",
       "      <td>---</td>\n",
       "      <td>---</td>\n",
       "      <td>0</td>\n",
       "      <td>0.0</td>\n",
       "      <td>NaN</td>\n",
       "      <td>TIDAK ADA DATA</td>\n",
       "    </tr>\n",
       "    <tr>\n",
       "      <th>1158</th>\n",
       "      <td>2020-08-01</td>\n",
       "      <td>DKI4 (Lubang Buaya)</td>\n",
       "      <td>---</td>\n",
       "      <td>---</td>\n",
       "      <td>---</td>\n",
       "      <td>---</td>\n",
       "      <td>0</td>\n",
       "      <td>0.0</td>\n",
       "      <td>NaN</td>\n",
       "      <td>TIDAK ADA DATA</td>\n",
       "    </tr>\n",
       "    <tr>\n",
       "      <th>1278</th>\n",
       "      <td>2020-09-29</td>\n",
       "      <td>DKI2 (Kelapa Gading)</td>\n",
       "      <td>---</td>\n",
       "      <td>---</td>\n",
       "      <td>---</td>\n",
       "      <td>---</td>\n",
       "      <td>0</td>\n",
       "      <td>0.0</td>\n",
       "      <td>NaN</td>\n",
       "      <td>TIDAK ADA DATA</td>\n",
       "    </tr>\n",
       "    <tr>\n",
       "      <th>1333</th>\n",
       "      <td>2020-09-24</td>\n",
       "      <td>DKI4 (Lubang Buaya)</td>\n",
       "      <td>---</td>\n",
       "      <td>---</td>\n",
       "      <td>---</td>\n",
       "      <td>---</td>\n",
       "      <td>0</td>\n",
       "      <td>0.0</td>\n",
       "      <td>NaN</td>\n",
       "      <td>TIDAK ADA DATA</td>\n",
       "    </tr>\n",
       "    <tr>\n",
       "      <th>1339</th>\n",
       "      <td>2020-09-30</td>\n",
       "      <td>DKI4 (Lubang Buaya)</td>\n",
       "      <td>---</td>\n",
       "      <td>---</td>\n",
       "      <td>---</td>\n",
       "      <td>---</td>\n",
       "      <td>0</td>\n",
       "      <td>0.0</td>\n",
       "      <td>NaN</td>\n",
       "      <td>TIDAK ADA DATA</td>\n",
       "    </tr>\n",
       "    <tr>\n",
       "      <th>1421</th>\n",
       "      <td>2020-10-21</td>\n",
       "      <td>DKI2 (Kelapa Gading)</td>\n",
       "      <td>---</td>\n",
       "      <td>---</td>\n",
       "      <td>---</td>\n",
       "      <td>---</td>\n",
       "      <td>0</td>\n",
       "      <td>0.0</td>\n",
       "      <td>NaN</td>\n",
       "      <td>TIDAK ADA DATA</td>\n",
       "    </tr>\n",
       "    <tr>\n",
       "      <th>1474</th>\n",
       "      <td>2020-10-12</td>\n",
       "      <td>DKI4 (Lubang Buaya)</td>\n",
       "      <td>---</td>\n",
       "      <td>---</td>\n",
       "      <td>---</td>\n",
       "      <td>---</td>\n",
       "      <td>0</td>\n",
       "      <td>NaN</td>\n",
       "      <td>NaN</td>\n",
       "      <td>TIDAK ADA DATA</td>\n",
       "    </tr>\n",
       "    <tr>\n",
       "      <th>1749</th>\n",
       "      <td>2020-12-13</td>\n",
       "      <td>DKI3 (Jagakarsa)</td>\n",
       "      <td>---</td>\n",
       "      <td>---</td>\n",
       "      <td>---</td>\n",
       "      <td>---</td>\n",
       "      <td>0</td>\n",
       "      <td>0.0</td>\n",
       "      <td>NaN</td>\n",
       "      <td>TIDAK ADA DATA</td>\n",
       "    </tr>\n",
       "    <tr>\n",
       "      <th>1750</th>\n",
       "      <td>2020-12-14</td>\n",
       "      <td>DKI3 (Jagakarsa)</td>\n",
       "      <td>---</td>\n",
       "      <td>---</td>\n",
       "      <td>---</td>\n",
       "      <td>---</td>\n",
       "      <td>0</td>\n",
       "      <td>0.0</td>\n",
       "      <td>NaN</td>\n",
       "      <td>TIDAK ADA DATA</td>\n",
       "    </tr>\n",
       "  </tbody>\n",
       "</table>\n",
       "</div>"
      ],
      "text/plain": [
       "         tanggal               stasiun pm10  so2   co   o3 no2  max critical  \\\n",
       "197   2020-02-14  DKI2 (Kelapa Gading)  ---  ---  ---  ---   0  0.0      NaN   \n",
       "248   2020-02-07   DKI4 (Lubang Buaya)  ---  ---  ---  ---   0  0.0      NaN   \n",
       "372   2020-03-11      DKI3 (Jagakarsa)  ---  ---  ---  ---   0  0.0      NaN   \n",
       "404   2020-03-12   DKI4 (Lubang Buaya)  ---  ---  ---  ---   0  0.0      NaN   \n",
       "423   2020-03-31   DKI4 (Lubang Buaya)  ---  ---  ---  ---   0  0.0      NaN   \n",
       "728   2020-05-31   DKI4 (Lubang Buaya)  ---  ---  ---  ---   0  0.0      NaN   \n",
       "859   2020-06-06   DKI4 (Lubang Buaya)  ---  ---  ---  ---   0  0.0      NaN   \n",
       "1022  2020-07-20   DKI4 (Lubang Buaya)  ---  ---  ---  ---   0  0.0      NaN   \n",
       "1158  2020-08-01   DKI4 (Lubang Buaya)  ---  ---  ---  ---   0  0.0      NaN   \n",
       "1278  2020-09-29  DKI2 (Kelapa Gading)  ---  ---  ---  ---   0  0.0      NaN   \n",
       "1333  2020-09-24   DKI4 (Lubang Buaya)  ---  ---  ---  ---   0  0.0      NaN   \n",
       "1339  2020-09-30   DKI4 (Lubang Buaya)  ---  ---  ---  ---   0  0.0      NaN   \n",
       "1421  2020-10-21  DKI2 (Kelapa Gading)  ---  ---  ---  ---   0  0.0      NaN   \n",
       "1474  2020-10-12   DKI4 (Lubang Buaya)  ---  ---  ---  ---   0  NaN      NaN   \n",
       "1749  2020-12-13      DKI3 (Jagakarsa)  ---  ---  ---  ---   0  0.0      NaN   \n",
       "1750  2020-12-14      DKI3 (Jagakarsa)  ---  ---  ---  ---   0  0.0      NaN   \n",
       "\n",
       "            categori  \n",
       "197   TIDAK ADA DATA  \n",
       "248   TIDAK ADA DATA  \n",
       "372   TIDAK ADA DATA  \n",
       "404   TIDAK ADA DATA  \n",
       "423   TIDAK ADA DATA  \n",
       "728   TIDAK ADA DATA  \n",
       "859   TIDAK ADA DATA  \n",
       "1022  TIDAK ADA DATA  \n",
       "1158  TIDAK ADA DATA  \n",
       "1278  TIDAK ADA DATA  \n",
       "1333  TIDAK ADA DATA  \n",
       "1339  TIDAK ADA DATA  \n",
       "1421  TIDAK ADA DATA  \n",
       "1474  TIDAK ADA DATA  \n",
       "1749  TIDAK ADA DATA  \n",
       "1750  TIDAK ADA DATA  "
      ]
     },
     "execution_count": 17,
     "metadata": {},
     "output_type": "execute_result"
    }
   ],
   "source": [
    "# cheeck where is null\n",
    "df_ISPU[df_ISPU.critical.isnull()]"
   ]
  },
  {
   "cell_type": "code",
   "execution_count": 18,
   "id": "s2UOGMjW4nbh",
   "metadata": {
    "id": "s2UOGMjW4nbh"
   },
   "outputs": [],
   "source": [
    "# delete null values karena tidak ada pengaruh dengan ispu\n",
    "df_ISPU.dropna(inplace=True)"
   ]
  },
  {
   "cell_type": "code",
   "execution_count": 19,
   "id": "YNLG9HuC41aU",
   "metadata": {
    "id": "YNLG9HuC41aU"
   },
   "outputs": [],
   "source": [
    "# because there's still have value \"---\", so replace it with 0\n",
    "df_ISPU['pm10'].replace(['---'], '0', inplace=True)\n",
    "df_ISPU['so2'].replace(['---'], '0', inplace=True)\n",
    "df_ISPU['co'].replace(['---'], '0', inplace=True)\n",
    "df_ISPU['o3'].replace(['---'], '0', inplace=True)"
   ]
  },
  {
   "cell_type": "code",
   "execution_count": 20,
   "id": "jzyyjuUl458O",
   "metadata": {
    "id": "jzyyjuUl458O"
   },
   "outputs": [],
   "source": [
    "# change type value into integer\n",
    "df_ISPU['pm10'] = df_ISPU.pm10.astype(int)\n",
    "df_ISPU['so2'] = df_ISPU.so2.astype(int)\n",
    "df_ISPU['co'] = df_ISPU.co.astype(int)\n",
    "df_ISPU['o3'] = df_ISPU.o3.astype(int)\n",
    "df_ISPU['no2'] = df_ISPU.no2.astype(int)"
   ]
  },
  {
   "cell_type": "code",
   "execution_count": 21,
   "id": "66ZNZZ1Q5D1u",
   "metadata": {
    "colab": {
     "base_uri": "https://localhost:8080/"
    },
    "id": "66ZNZZ1Q5D1u",
    "outputId": "22b134fc-f131-4799-e204-6d731ae2d215"
   },
   "outputs": [
    {
     "name": "stdout",
     "output_type": "stream",
     "text": [
      "<class 'pandas.core.frame.DataFrame'>\n",
      "Int64Index: 1814 entries, 0 to 1829\n",
      "Data columns (total 10 columns):\n",
      " #   Column    Non-Null Count  Dtype  \n",
      "---  ------    --------------  -----  \n",
      " 0   tanggal   1814 non-null   object \n",
      " 1   stasiun   1814 non-null   object \n",
      " 2   pm10      1814 non-null   int32  \n",
      " 3   so2       1814 non-null   int32  \n",
      " 4   co        1814 non-null   int32  \n",
      " 5   o3        1814 non-null   int32  \n",
      " 6   no2       1814 non-null   int32  \n",
      " 7   max       1814 non-null   float64\n",
      " 8   critical  1814 non-null   object \n",
      " 9   categori  1814 non-null   object \n",
      "dtypes: float64(1), int32(5), object(4)\n",
      "memory usage: 120.5+ KB\n"
     ]
    }
   ],
   "source": [
    "# check info again\n",
    "df_ISPU.info()"
   ]
  },
  {
   "cell_type": "code",
   "execution_count": 22,
   "id": "287ae9fe",
   "metadata": {
    "colab": {
     "base_uri": "https://localhost:8080/",
     "height": 238
    },
    "id": "287ae9fe",
    "outputId": "b94f7a49-6c50-492f-9198-c8df1b58da09"
   },
   "outputs": [
    {
     "data": {
      "text/html": [
       "<div>\n",
       "<style scoped>\n",
       "    .dataframe tbody tr th:only-of-type {\n",
       "        vertical-align: middle;\n",
       "    }\n",
       "\n",
       "    .dataframe tbody tr th {\n",
       "        vertical-align: top;\n",
       "    }\n",
       "\n",
       "    .dataframe thead th {\n",
       "        text-align: right;\n",
       "    }\n",
       "</style>\n",
       "<table border=\"1\" class=\"dataframe\">\n",
       "  <thead>\n",
       "    <tr style=\"text-align: right;\">\n",
       "      <th></th>\n",
       "      <th>count</th>\n",
       "      <th>mean</th>\n",
       "      <th>std</th>\n",
       "      <th>min</th>\n",
       "      <th>25%</th>\n",
       "      <th>50%</th>\n",
       "      <th>75%</th>\n",
       "      <th>max</th>\n",
       "    </tr>\n",
       "  </thead>\n",
       "  <tbody>\n",
       "    <tr>\n",
       "      <th>pm10</th>\n",
       "      <td>1814.0</td>\n",
       "      <td>50.246968</td>\n",
       "      <td>16.397156</td>\n",
       "      <td>0.0</td>\n",
       "      <td>40.0</td>\n",
       "      <td>53.0</td>\n",
       "      <td>61.0</td>\n",
       "      <td>111.0</td>\n",
       "    </tr>\n",
       "    <tr>\n",
       "      <th>so2</th>\n",
       "      <td>1814.0</td>\n",
       "      <td>21.823594</td>\n",
       "      <td>16.081143</td>\n",
       "      <td>0.0</td>\n",
       "      <td>14.0</td>\n",
       "      <td>19.0</td>\n",
       "      <td>25.0</td>\n",
       "      <td>112.0</td>\n",
       "    </tr>\n",
       "    <tr>\n",
       "      <th>co</th>\n",
       "      <td>1814.0</td>\n",
       "      <td>17.583793</td>\n",
       "      <td>16.318952</td>\n",
       "      <td>0.0</td>\n",
       "      <td>8.0</td>\n",
       "      <td>13.0</td>\n",
       "      <td>20.0</td>\n",
       "      <td>135.0</td>\n",
       "    </tr>\n",
       "    <tr>\n",
       "      <th>o3</th>\n",
       "      <td>1814.0</td>\n",
       "      <td>58.070562</td>\n",
       "      <td>29.510036</td>\n",
       "      <td>0.0</td>\n",
       "      <td>38.0</td>\n",
       "      <td>57.0</td>\n",
       "      <td>75.0</td>\n",
       "      <td>213.0</td>\n",
       "    </tr>\n",
       "    <tr>\n",
       "      <th>no2</th>\n",
       "      <td>1814.0</td>\n",
       "      <td>13.357222</td>\n",
       "      <td>19.023435</td>\n",
       "      <td>0.0</td>\n",
       "      <td>6.0</td>\n",
       "      <td>8.0</td>\n",
       "      <td>12.0</td>\n",
       "      <td>148.0</td>\n",
       "    </tr>\n",
       "    <tr>\n",
       "      <th>max</th>\n",
       "      <td>1814.0</td>\n",
       "      <td>63.226571</td>\n",
       "      <td>28.381627</td>\n",
       "      <td>1.0</td>\n",
       "      <td>47.0</td>\n",
       "      <td>63.0</td>\n",
       "      <td>79.0</td>\n",
       "      <td>213.0</td>\n",
       "    </tr>\n",
       "  </tbody>\n",
       "</table>\n",
       "</div>"
      ],
      "text/plain": [
       "       count       mean        std  min   25%   50%   75%    max\n",
       "pm10  1814.0  50.246968  16.397156  0.0  40.0  53.0  61.0  111.0\n",
       "so2   1814.0  21.823594  16.081143  0.0  14.0  19.0  25.0  112.0\n",
       "co    1814.0  17.583793  16.318952  0.0   8.0  13.0  20.0  135.0\n",
       "o3    1814.0  58.070562  29.510036  0.0  38.0  57.0  75.0  213.0\n",
       "no2   1814.0  13.357222  19.023435  0.0   6.0   8.0  12.0  148.0\n",
       "max   1814.0  63.226571  28.381627  1.0  47.0  63.0  79.0  213.0"
      ]
     },
     "execution_count": 22,
     "metadata": {},
     "output_type": "execute_result"
    }
   ],
   "source": [
    "df_ISPU.describe().T"
   ]
  },
  {
   "cell_type": "code",
   "execution_count": 23,
   "id": "eeb0aef3",
   "metadata": {
    "colab": {
     "base_uri": "https://localhost:8080/",
     "height": 206
    },
    "id": "eeb0aef3",
    "outputId": "2627723a-dbe9-457b-944b-c0f35c1baf5a"
   },
   "outputs": [
    {
     "data": {
      "text/html": [
       "<div>\n",
       "<style scoped>\n",
       "    .dataframe tbody tr th:only-of-type {\n",
       "        vertical-align: middle;\n",
       "    }\n",
       "\n",
       "    .dataframe tbody tr th {\n",
       "        vertical-align: top;\n",
       "    }\n",
       "\n",
       "    .dataframe thead th {\n",
       "        text-align: right;\n",
       "    }\n",
       "</style>\n",
       "<table border=\"1\" class=\"dataframe\">\n",
       "  <thead>\n",
       "    <tr style=\"text-align: right;\">\n",
       "      <th></th>\n",
       "      <th>tanggal</th>\n",
       "      <th>stasiun</th>\n",
       "      <th>pm10</th>\n",
       "      <th>so2</th>\n",
       "      <th>co</th>\n",
       "      <th>o3</th>\n",
       "      <th>no2</th>\n",
       "      <th>max</th>\n",
       "      <th>critical</th>\n",
       "      <th>categori</th>\n",
       "    </tr>\n",
       "  </thead>\n",
       "  <tbody>\n",
       "    <tr>\n",
       "      <th>0</th>\n",
       "      <td>2020-01-01</td>\n",
       "      <td>DKI1 (Bunderan HI)</td>\n",
       "      <td>30</td>\n",
       "      <td>20</td>\n",
       "      <td>10</td>\n",
       "      <td>32</td>\n",
       "      <td>9</td>\n",
       "      <td>32.0</td>\n",
       "      <td>O3</td>\n",
       "      <td>BAIK</td>\n",
       "    </tr>\n",
       "    <tr>\n",
       "      <th>1</th>\n",
       "      <td>2020-01-02</td>\n",
       "      <td>DKI1 (Bunderan HI)</td>\n",
       "      <td>27</td>\n",
       "      <td>22</td>\n",
       "      <td>12</td>\n",
       "      <td>29</td>\n",
       "      <td>8</td>\n",
       "      <td>29.0</td>\n",
       "      <td>O3</td>\n",
       "      <td>BAIK</td>\n",
       "    </tr>\n",
       "    <tr>\n",
       "      <th>2</th>\n",
       "      <td>2020-01-03</td>\n",
       "      <td>DKI1 (Bunderan HI)</td>\n",
       "      <td>39</td>\n",
       "      <td>22</td>\n",
       "      <td>14</td>\n",
       "      <td>32</td>\n",
       "      <td>10</td>\n",
       "      <td>39.0</td>\n",
       "      <td>PM10</td>\n",
       "      <td>BAIK</td>\n",
       "    </tr>\n",
       "    <tr>\n",
       "      <th>3</th>\n",
       "      <td>2020-01-04</td>\n",
       "      <td>DKI1 (Bunderan HI)</td>\n",
       "      <td>34</td>\n",
       "      <td>22</td>\n",
       "      <td>14</td>\n",
       "      <td>38</td>\n",
       "      <td>10</td>\n",
       "      <td>38.0</td>\n",
       "      <td>O3</td>\n",
       "      <td>BAIK</td>\n",
       "    </tr>\n",
       "    <tr>\n",
       "      <th>4</th>\n",
       "      <td>2020-01-05</td>\n",
       "      <td>DKI1 (Bunderan HI)</td>\n",
       "      <td>35</td>\n",
       "      <td>22</td>\n",
       "      <td>12</td>\n",
       "      <td>31</td>\n",
       "      <td>9</td>\n",
       "      <td>35.0</td>\n",
       "      <td>PM10</td>\n",
       "      <td>BAIK</td>\n",
       "    </tr>\n",
       "  </tbody>\n",
       "</table>\n",
       "</div>"
      ],
      "text/plain": [
       "      tanggal             stasiun  pm10  so2  co  o3  no2   max critical  \\\n",
       "0  2020-01-01  DKI1 (Bunderan HI)    30   20  10  32    9  32.0       O3   \n",
       "1  2020-01-02  DKI1 (Bunderan HI)    27   22  12  29    8  29.0       O3   \n",
       "2  2020-01-03  DKI1 (Bunderan HI)    39   22  14  32   10  39.0     PM10   \n",
       "3  2020-01-04  DKI1 (Bunderan HI)    34   22  14  38   10  38.0       O3   \n",
       "4  2020-01-05  DKI1 (Bunderan HI)    35   22  12  31    9  35.0     PM10   \n",
       "\n",
       "  categori  \n",
       "0     BAIK  \n",
       "1     BAIK  \n",
       "2     BAIK  \n",
       "3     BAIK  \n",
       "4     BAIK  "
      ]
     },
     "execution_count": 23,
     "metadata": {},
     "output_type": "execute_result"
    }
   ],
   "source": [
    "df_ISPU.head()"
   ]
  },
  {
   "cell_type": "markdown",
   "id": "7c2e619c",
   "metadata": {
    "id": "7c2e619c"
   },
   "source": [
    "#### Dropping irrelevant columns"
   ]
  },
  {
   "cell_type": "code",
   "execution_count": 24,
   "id": "4edb86b9",
   "metadata": {
    "colab": {
     "base_uri": "https://localhost:8080/",
     "height": 206
    },
    "id": "4edb86b9",
    "outputId": "be9adbb1-5108-48bf-e3c8-5f4e04e7ebc5"
   },
   "outputs": [
    {
     "data": {
      "text/html": [
       "<div>\n",
       "<style scoped>\n",
       "    .dataframe tbody tr th:only-of-type {\n",
       "        vertical-align: middle;\n",
       "    }\n",
       "\n",
       "    .dataframe tbody tr th {\n",
       "        vertical-align: top;\n",
       "    }\n",
       "\n",
       "    .dataframe thead th {\n",
       "        text-align: right;\n",
       "    }\n",
       "</style>\n",
       "<table border=\"1\" class=\"dataframe\">\n",
       "  <thead>\n",
       "    <tr style=\"text-align: right;\">\n",
       "      <th></th>\n",
       "      <th>pm10</th>\n",
       "      <th>so2</th>\n",
       "      <th>co</th>\n",
       "      <th>o3</th>\n",
       "      <th>no2</th>\n",
       "      <th>categori</th>\n",
       "    </tr>\n",
       "  </thead>\n",
       "  <tbody>\n",
       "    <tr>\n",
       "      <th>0</th>\n",
       "      <td>30</td>\n",
       "      <td>20</td>\n",
       "      <td>10</td>\n",
       "      <td>32</td>\n",
       "      <td>9</td>\n",
       "      <td>BAIK</td>\n",
       "    </tr>\n",
       "    <tr>\n",
       "      <th>1</th>\n",
       "      <td>27</td>\n",
       "      <td>22</td>\n",
       "      <td>12</td>\n",
       "      <td>29</td>\n",
       "      <td>8</td>\n",
       "      <td>BAIK</td>\n",
       "    </tr>\n",
       "    <tr>\n",
       "      <th>2</th>\n",
       "      <td>39</td>\n",
       "      <td>22</td>\n",
       "      <td>14</td>\n",
       "      <td>32</td>\n",
       "      <td>10</td>\n",
       "      <td>BAIK</td>\n",
       "    </tr>\n",
       "    <tr>\n",
       "      <th>3</th>\n",
       "      <td>34</td>\n",
       "      <td>22</td>\n",
       "      <td>14</td>\n",
       "      <td>38</td>\n",
       "      <td>10</td>\n",
       "      <td>BAIK</td>\n",
       "    </tr>\n",
       "    <tr>\n",
       "      <th>4</th>\n",
       "      <td>35</td>\n",
       "      <td>22</td>\n",
       "      <td>12</td>\n",
       "      <td>31</td>\n",
       "      <td>9</td>\n",
       "      <td>BAIK</td>\n",
       "    </tr>\n",
       "  </tbody>\n",
       "</table>\n",
       "</div>"
      ],
      "text/plain": [
       "   pm10  so2  co  o3  no2 categori\n",
       "0    30   20  10  32    9     BAIK\n",
       "1    27   22  12  29    8     BAIK\n",
       "2    39   22  14  32   10     BAIK\n",
       "3    34   22  14  38   10     BAIK\n",
       "4    35   22  12  31    9     BAIK"
      ]
     },
     "execution_count": 24,
     "metadata": {},
     "output_type": "execute_result"
    }
   ],
   "source": [
    "df_ISPU = df_ISPU.drop(['tanggal', 'stasiun', 'max', 'critical'], axis = 1)\n",
    "df_ISPU.head(5)"
   ]
  },
  {
   "cell_type": "markdown",
   "id": "fae9d701",
   "metadata": {
    "id": "fae9d701"
   },
   "source": [
    "#### Convert the data types into the right one\n",
    "- categori : BAIK = 1, SEDANG = 2, TIDAK SEHAT = 3, SANGAT TIDAK SEHAT = 4"
   ]
  },
  {
   "cell_type": "code",
   "execution_count": 25,
   "id": "4d717320",
   "metadata": {
    "colab": {
     "base_uri": "https://localhost:8080/",
     "height": 206
    },
    "id": "4d717320",
    "outputId": "807f66b2-aa0c-4fb5-cca8-26f6a39a9d58"
   },
   "outputs": [
    {
     "data": {
      "text/html": [
       "<div>\n",
       "<style scoped>\n",
       "    .dataframe tbody tr th:only-of-type {\n",
       "        vertical-align: middle;\n",
       "    }\n",
       "\n",
       "    .dataframe tbody tr th {\n",
       "        vertical-align: top;\n",
       "    }\n",
       "\n",
       "    .dataframe thead th {\n",
       "        text-align: right;\n",
       "    }\n",
       "</style>\n",
       "<table border=\"1\" class=\"dataframe\">\n",
       "  <thead>\n",
       "    <tr style=\"text-align: right;\">\n",
       "      <th></th>\n",
       "      <th>pm10</th>\n",
       "      <th>so2</th>\n",
       "      <th>co</th>\n",
       "      <th>o3</th>\n",
       "      <th>no2</th>\n",
       "      <th>categori</th>\n",
       "    </tr>\n",
       "  </thead>\n",
       "  <tbody>\n",
       "    <tr>\n",
       "      <th>0</th>\n",
       "      <td>30</td>\n",
       "      <td>20</td>\n",
       "      <td>10</td>\n",
       "      <td>32</td>\n",
       "      <td>9</td>\n",
       "      <td>1</td>\n",
       "    </tr>\n",
       "    <tr>\n",
       "      <th>1</th>\n",
       "      <td>27</td>\n",
       "      <td>22</td>\n",
       "      <td>12</td>\n",
       "      <td>29</td>\n",
       "      <td>8</td>\n",
       "      <td>1</td>\n",
       "    </tr>\n",
       "    <tr>\n",
       "      <th>2</th>\n",
       "      <td>39</td>\n",
       "      <td>22</td>\n",
       "      <td>14</td>\n",
       "      <td>32</td>\n",
       "      <td>10</td>\n",
       "      <td>1</td>\n",
       "    </tr>\n",
       "    <tr>\n",
       "      <th>3</th>\n",
       "      <td>34</td>\n",
       "      <td>22</td>\n",
       "      <td>14</td>\n",
       "      <td>38</td>\n",
       "      <td>10</td>\n",
       "      <td>1</td>\n",
       "    </tr>\n",
       "    <tr>\n",
       "      <th>4</th>\n",
       "      <td>35</td>\n",
       "      <td>22</td>\n",
       "      <td>12</td>\n",
       "      <td>31</td>\n",
       "      <td>9</td>\n",
       "      <td>1</td>\n",
       "    </tr>\n",
       "  </tbody>\n",
       "</table>\n",
       "</div>"
      ],
      "text/plain": [
       "   pm10  so2  co  o3  no2  categori\n",
       "0    30   20  10  32    9         1\n",
       "1    27   22  12  29    8         1\n",
       "2    39   22  14  32   10         1\n",
       "3    34   22  14  38   10         1\n",
       "4    35   22  12  31    9         1"
      ]
     },
     "execution_count": 25,
     "metadata": {},
     "output_type": "execute_result"
    }
   ],
   "source": [
    "df_ISPU['categori'] = df_ISPU['categori'].map({'BAIK': 1, 'SEDANG': 2, 'TIDAK SEHAT': 3, 'SANGAT TIDAK SEHAT': 4})\n",
    "df_ISPU.head(5)"
   ]
  },
  {
   "cell_type": "code",
   "execution_count": 26,
   "id": "cb2844d1",
   "metadata": {
    "colab": {
     "base_uri": "https://localhost:8080/"
    },
    "id": "cb2844d1",
    "outputId": "c1b499e0-5652-41dc-9f44-63ce446cf013"
   },
   "outputs": [
    {
     "data": {
      "text/plain": [
       "pm10        int32\n",
       "so2         int32\n",
       "co          int32\n",
       "o3          int32\n",
       "no2         int32\n",
       "categori    int32\n",
       "dtype: object"
      ]
     },
     "execution_count": 26,
     "metadata": {},
     "output_type": "execute_result"
    }
   ],
   "source": [
    "df_ISPU['categori'] = df_ISPU.categori.astype(int)\n",
    "df_ISPU.dtypes"
   ]
  },
  {
   "cell_type": "markdown",
   "id": "6baf7147",
   "metadata": {
    "id": "6baf7147"
   },
   "source": [
    "#### Deal with missing values"
   ]
  },
  {
   "cell_type": "code",
   "execution_count": 27,
   "id": "b1c78c12",
   "metadata": {
    "colab": {
     "base_uri": "https://localhost:8080/"
    },
    "id": "b1c78c12",
    "outputId": "bc9b46f5-4eea-459c-d18a-1dc8a605a09a"
   },
   "outputs": [
    {
     "name": "stdout",
     "output_type": "stream",
     "text": [
      "\n",
      "Cleaning Summary\n",
      "------------------------------\n",
      "Total records: 1814\n",
      "Removed 1 duplicate rows\n",
      "\n",
      "Missing Value Summary\n",
      "------------------------------\n",
      "df_ISPU_total\n",
      "pm10        0\n",
      "so2         0\n",
      "co          0\n",
      "o3          0\n",
      "no2         0\n",
      "categori    0\n",
      "dtype: int64\n"
     ]
    }
   ],
   "source": [
    "print(\"\\nCleaning Summary\\n{}\".format(\"-\"*30))\n",
    "print(\"Total records:\", df_ISPU.shape[0])\n",
    "duplicate_rows = df_ISPU.duplicated()\n",
    "if True in duplicate_rows:\n",
    "    df_ISPU = df_ISPU[~duplicate_rows]\n",
    "print(\"Removed {} duplicate rows\".format(np.where(duplicate_rows==True)[0].size))\n",
    "\n",
    "print(\"\\nMissing Value Summary\\n{}\".format(\"-\"*30))\n",
    "print(\"df_ISPU_total\")\n",
    "print(df_ISPU.isnull().sum(axis = 0))"
   ]
  },
  {
   "cell_type": "code",
   "execution_count": 28,
   "id": "91ca304e",
   "metadata": {
    "colab": {
     "base_uri": "https://localhost:8080/"
    },
    "id": "91ca304e",
    "outputId": "a9b76dc8-858f-4a44-8b2b-bc690378901d"
   },
   "outputs": [
    {
     "data": {
      "text/plain": [
       "pm10        1813\n",
       "so2         1813\n",
       "co          1813\n",
       "o3          1813\n",
       "no2         1813\n",
       "categori    1813\n",
       "dtype: int64"
      ]
     },
     "execution_count": 28,
     "metadata": {},
     "output_type": "execute_result"
    }
   ],
   "source": [
    "df_ISPU.count()"
   ]
  },
  {
   "cell_type": "code",
   "execution_count": 29,
   "id": "e3e34d5b",
   "metadata": {
    "colab": {
     "base_uri": "https://localhost:8080/"
    },
    "id": "e3e34d5b",
    "outputId": "586a443d-0487-4b53-f165-5be246cfaad6"
   },
   "outputs": [
    {
     "name": "stdout",
     "output_type": "stream",
     "text": [
      "pm10        36\n",
      "so2         46\n",
      "co          25\n",
      "o3           7\n",
      "no2         43\n",
      "categori     0\n",
      "dtype: int64\n"
     ]
    }
   ],
   "source": [
    "df_ISPU[['pm10','so2','co','o3','no2']] = df_ISPU[['pm10','so2','co','o3','no2']].replace(0,np.NaN)\n",
    "print(df_ISPU.isnull().sum())"
   ]
  },
  {
   "cell_type": "markdown",
   "id": "2ade8411",
   "metadata": {
    "id": "2ade8411"
   },
   "source": [
    "#### Rename the columns"
   ]
  },
  {
   "cell_type": "code",
   "execution_count": 30,
   "id": "a423e3a6",
   "metadata": {
    "colab": {
     "base_uri": "https://localhost:8080/",
     "height": 206
    },
    "id": "a423e3a6",
    "outputId": "3f394e25-c2c1-4428-d753-8aa863aac59e"
   },
   "outputs": [
    {
     "data": {
      "text/html": [
       "<div>\n",
       "<style scoped>\n",
       "    .dataframe tbody tr th:only-of-type {\n",
       "        vertical-align: middle;\n",
       "    }\n",
       "\n",
       "    .dataframe tbody tr th {\n",
       "        vertical-align: top;\n",
       "    }\n",
       "\n",
       "    .dataframe thead th {\n",
       "        text-align: right;\n",
       "    }\n",
       "</style>\n",
       "<table border=\"1\" class=\"dataframe\">\n",
       "  <thead>\n",
       "    <tr style=\"text-align: right;\">\n",
       "      <th></th>\n",
       "      <th>PM10</th>\n",
       "      <th>SO2</th>\n",
       "      <th>CO</th>\n",
       "      <th>O3</th>\n",
       "      <th>NO2</th>\n",
       "      <th>Category</th>\n",
       "    </tr>\n",
       "  </thead>\n",
       "  <tbody>\n",
       "    <tr>\n",
       "      <th>0</th>\n",
       "      <td>30.0</td>\n",
       "      <td>20.0</td>\n",
       "      <td>10.0</td>\n",
       "      <td>32.0</td>\n",
       "      <td>9.0</td>\n",
       "      <td>1</td>\n",
       "    </tr>\n",
       "    <tr>\n",
       "      <th>1</th>\n",
       "      <td>27.0</td>\n",
       "      <td>22.0</td>\n",
       "      <td>12.0</td>\n",
       "      <td>29.0</td>\n",
       "      <td>8.0</td>\n",
       "      <td>1</td>\n",
       "    </tr>\n",
       "    <tr>\n",
       "      <th>2</th>\n",
       "      <td>39.0</td>\n",
       "      <td>22.0</td>\n",
       "      <td>14.0</td>\n",
       "      <td>32.0</td>\n",
       "      <td>10.0</td>\n",
       "      <td>1</td>\n",
       "    </tr>\n",
       "    <tr>\n",
       "      <th>3</th>\n",
       "      <td>34.0</td>\n",
       "      <td>22.0</td>\n",
       "      <td>14.0</td>\n",
       "      <td>38.0</td>\n",
       "      <td>10.0</td>\n",
       "      <td>1</td>\n",
       "    </tr>\n",
       "    <tr>\n",
       "      <th>4</th>\n",
       "      <td>35.0</td>\n",
       "      <td>22.0</td>\n",
       "      <td>12.0</td>\n",
       "      <td>31.0</td>\n",
       "      <td>9.0</td>\n",
       "      <td>1</td>\n",
       "    </tr>\n",
       "  </tbody>\n",
       "</table>\n",
       "</div>"
      ],
      "text/plain": [
       "   PM10   SO2    CO    O3   NO2  Category\n",
       "0  30.0  20.0  10.0  32.0   9.0         1\n",
       "1  27.0  22.0  12.0  29.0   8.0         1\n",
       "2  39.0  22.0  14.0  32.0  10.0         1\n",
       "3  34.0  22.0  14.0  38.0  10.0         1\n",
       "4  35.0  22.0  12.0  31.0   9.0         1"
      ]
     },
     "execution_count": 30,
     "metadata": {},
     "output_type": "execute_result"
    }
   ],
   "source": [
    "df_ISPU = df_ISPU.rename(columns={\"pm10\":\"PM10\",\"so2\":\"SO2\",\"co\":\"CO\",\"o3\":\"O3\",\"no2\":\"NO2\",\"categori\":\"Category\"})\n",
    "df_ISPU.head(5)"
   ]
  },
  {
   "cell_type": "markdown",
   "id": "3116e196",
   "metadata": {
    "id": "3116e196"
   },
   "source": [
    "#### Handing Outliers\n",
    "- Filtering outliers using the calculate IQR scores and using pairplot that help in visualizing\n",
    "- Fill any NA with mean or median\n",
    "- Using heatmap to show plotting pairwise relationships in a dataset"
   ]
  },
  {
   "cell_type": "code",
   "execution_count": 31,
   "id": "1d0037c2",
   "metadata": {
    "colab": {
     "base_uri": "https://localhost:8080/",
     "height": 197
    },
    "id": "1d0037c2",
    "outputId": "ed8f89bb-391c-45ac-85d4-e3a7ab64c15d"
   },
   "outputs": [
    {
     "data": {
      "image/png": "[encoded data removed]",
      "text/plain": [
       "<Figure size 1250x250 with 5 Axes>"
      ]
     },
     "metadata": {},
     "output_type": "display_data"
    }
   ],
   "source": [
    "for i in range(0, 1, 5):\n",
    "    sns.pairplot(data=df_ISPU, x_vars=['PM10', 'SO2', 'CO', 'O3', 'NO2'], y_vars=['Category'])"
   ]
  },
  {
   "cell_type": "code",
   "execution_count": 32,
   "id": "d686c51f",
   "metadata": {
    "id": "d686c51f"
   },
   "outputs": [],
   "source": [
    "q1 = df_ISPU.quantile(0.20)\n",
    "q3 = df_ISPU.quantile(0.80)\n",
    "iqr = q3-q1\n",
    "\n",
    "df_ISPU = df_ISPU[~((df_ISPU < (q1 - 1.5 * iqr)) | (df_ISPU > (q3 + 1.5 * iqr))).any(axis=1)]"
   ]
  },
  {
   "cell_type": "code",
   "execution_count": 33,
   "id": "c36a3743",
   "metadata": {
    "colab": {
     "base_uri": "https://localhost:8080/",
     "height": 197
    },
    "id": "c36a3743",
    "outputId": "c87e2bec-d2fb-49be-b184-3b64ceb20c6c"
   },
   "outputs": [
    {
     "data": {
      "image/png": "[encoded data removed]",
      "text/plain": [
       "<Figure size 1250x250 with 5 Axes>"
      ]
     },
     "metadata": {},
     "output_type": "display_data"
    }
   ],
   "source": [
    "for i in range(0, 1, 5):\n",
    "    sns.pairplot(data=df_ISPU, x_vars=['PM10', 'SO2', 'CO', 'O3', 'NO2'], y_vars=['Category'])"
   ]
  },
  {
   "cell_type": "code",
   "execution_count": 34,
   "id": "29523fe3",
   "metadata": {
    "id": "29523fe3"
   },
   "outputs": [],
   "source": [
    "df_ISPU['PM10'].fillna(df_ISPU['PM10'].mean(), inplace = True)\n",
    "df_ISPU['SO2'].fillna(df_ISPU['SO2'].median(), inplace = True)\n",
    "df_ISPU['CO'].fillna(df_ISPU['CO'].median(), inplace = True)\n",
    "df_ISPU['O3'].fillna(df_ISPU['O3'].mean(), inplace = True)\n",
    "df_ISPU['NO2'].fillna(df_ISPU['NO2'].median(), inplace = True)"
   ]
  },
  {
   "cell_type": "code",
   "execution_count": 35,
   "id": "27d2c4a3",
   "metadata": {
    "colab": {
     "base_uri": "https://localhost:8080/",
     "height": 403
    },
    "id": "27d2c4a3",
    "outputId": "8d79d8f1-01ae-4c8a-b12d-ee86205f45ae"
   },
   "outputs": [
    {
     "data": {
      "image/png": "[encoded data removed]",
      "text/plain": [
       "<Figure size 2000x600 with 2 Axes>"
      ]
     },
     "metadata": {},
     "output_type": "display_data"
    }
   ],
   "source": [
    "plt.figure(figsize=(20, 6))\n",
    "heatmap = sns.heatmap(df_ISPU.corr(), vmin=-1, vmax=1, annot=True, cmap='BrBG')\n",
    "heatmap.set_title('Correlation Heatmap', fontdict={'fontsize':18}, pad=12);"
   ]
  },
  {
   "cell_type": "markdown",
   "id": "0aed477b",
   "metadata": {
    "id": "0aed477b"
   },
   "source": [
    "### 4. Scaling the data"
   ]
  },
  {
   "cell_type": "code",
   "execution_count": 36,
   "id": "250b45e1",
   "metadata": {
    "colab": {
     "base_uri": "https://localhost:8080/",
     "height": 238
    },
    "id": "250b45e1",
    "outputId": "54a17068-762a-4716-8087-ce506f5ece4f"
   },
   "outputs": [
    {
     "data": {
      "text/html": [
       "<div>\n",
       "<style scoped>\n",
       "    .dataframe tbody tr th:only-of-type {\n",
       "        vertical-align: middle;\n",
       "    }\n",
       "\n",
       "    .dataframe tbody tr th {\n",
       "        vertical-align: top;\n",
       "    }\n",
       "\n",
       "    .dataframe thead th {\n",
       "        text-align: right;\n",
       "    }\n",
       "</style>\n",
       "<table border=\"1\" class=\"dataframe\">\n",
       "  <thead>\n",
       "    <tr style=\"text-align: right;\">\n",
       "      <th></th>\n",
       "      <th>count</th>\n",
       "      <th>mean</th>\n",
       "      <th>std</th>\n",
       "      <th>min</th>\n",
       "      <th>25%</th>\n",
       "      <th>50%</th>\n",
       "      <th>75%</th>\n",
       "      <th>max</th>\n",
       "    </tr>\n",
       "  </thead>\n",
       "  <tbody>\n",
       "    <tr>\n",
       "      <th>PM10</th>\n",
       "      <td>1618.0</td>\n",
       "      <td>50.790903</td>\n",
       "      <td>14.647155</td>\n",
       "      <td>5.0</td>\n",
       "      <td>40.0</td>\n",
       "      <td>52.0</td>\n",
       "      <td>61.0</td>\n",
       "      <td>96.0</td>\n",
       "    </tr>\n",
       "    <tr>\n",
       "      <th>SO2</th>\n",
       "      <td>1618.0</td>\n",
       "      <td>19.765760</td>\n",
       "      <td>9.214352</td>\n",
       "      <td>1.0</td>\n",
       "      <td>15.0</td>\n",
       "      <td>19.0</td>\n",
       "      <td>24.0</td>\n",
       "      <td>51.0</td>\n",
       "    </tr>\n",
       "    <tr>\n",
       "      <th>CO</th>\n",
       "      <td>1618.0</td>\n",
       "      <td>14.035229</td>\n",
       "      <td>7.840596</td>\n",
       "      <td>3.0</td>\n",
       "      <td>8.0</td>\n",
       "      <td>12.0</td>\n",
       "      <td>18.0</td>\n",
       "      <td>43.0</td>\n",
       "    </tr>\n",
       "    <tr>\n",
       "      <th>O3</th>\n",
       "      <td>1618.0</td>\n",
       "      <td>61.443824</td>\n",
       "      <td>24.455299</td>\n",
       "      <td>6.0</td>\n",
       "      <td>44.0</td>\n",
       "      <td>60.0</td>\n",
       "      <td>76.0</td>\n",
       "      <td>147.0</td>\n",
       "    </tr>\n",
       "    <tr>\n",
       "      <th>NO2</th>\n",
       "      <td>1618.0</td>\n",
       "      <td>8.296044</td>\n",
       "      <td>3.671852</td>\n",
       "      <td>1.0</td>\n",
       "      <td>6.0</td>\n",
       "      <td>8.0</td>\n",
       "      <td>10.0</td>\n",
       "      <td>23.0</td>\n",
       "    </tr>\n",
       "    <tr>\n",
       "      <th>Category</th>\n",
       "      <td>1618.0</td>\n",
       "      <td>1.837454</td>\n",
       "      <td>0.525332</td>\n",
       "      <td>1.0</td>\n",
       "      <td>2.0</td>\n",
       "      <td>2.0</td>\n",
       "      <td>2.0</td>\n",
       "      <td>3.0</td>\n",
       "    </tr>\n",
       "  </tbody>\n",
       "</table>\n",
       "</div>"
      ],
      "text/plain": [
       "           count       mean        std  min   25%   50%   75%    max\n",
       "PM10      1618.0  50.790903  14.647155  5.0  40.0  52.0  61.0   96.0\n",
       "SO2       1618.0  19.765760   9.214352  1.0  15.0  19.0  24.0   51.0\n",
       "CO        1618.0  14.035229   7.840596  3.0   8.0  12.0  18.0   43.0\n",
       "O3        1618.0  61.443824  24.455299  6.0  44.0  60.0  76.0  147.0\n",
       "NO2       1618.0   8.296044   3.671852  1.0   6.0   8.0  10.0   23.0\n",
       "Category  1618.0   1.837454   0.525332  1.0   2.0   2.0   2.0    3.0"
      ]
     },
     "execution_count": 36,
     "metadata": {},
     "output_type": "execute_result"
    }
   ],
   "source": [
    "df_ISPU.describe().T"
   ]
  },
  {
   "cell_type": "code",
   "execution_count": 37,
   "id": "589ed12c",
   "metadata": {
    "colab": {
     "base_uri": "https://localhost:8080/",
     "height": 1000
    },
    "id": "589ed12c",
    "outputId": "ffc2ac1b-462d-457d-a400-100cc9f41261"
   },
   "outputs": [
    {
     "data": {
      "image/png": "[encoded data removed]",
      "text/plain": [
       "<Figure size 2000x2000 with 6 Axes>"
      ]
     },
     "metadata": {},
     "output_type": "display_data"
    }
   ],
   "source": [
    "p = df_ISPU.hist(figsize = (20,20))"
   ]
  },
  {
   "cell_type": "code",
   "execution_count": 38,
   "id": "0ae4f277",
   "metadata": {
    "colab": {
     "base_uri": "https://localhost:8080/",
     "height": 334
    },
    "id": "0ae4f277",
    "outputId": "8e0972d0-9c60-4bea-911e-9a1bd8d49d36"
   },
   "outputs": [
    {
     "name": "stdout",
     "output_type": "stream",
     "text": [
      "2    1129\n",
      "1     376\n",
      "3     113\n",
      "Name: Category, dtype: int64\n"
     ]
    },
    {
     "data": {
      "image/png": "[encoded data removed]",
      "text/plain": [
       "<Figure size 640x480 with 1 Axes>"
      ]
     },
     "metadata": {},
     "output_type": "display_data"
    }
   ],
   "source": [
    "print(df_ISPU.Category.value_counts())\n",
    "p=df_ISPU.Category.value_counts().plot(kind=\"bar\")"
   ]
  },
  {
   "cell_type": "markdown",
   "id": "d3d067f3",
   "metadata": {
    "id": "d3d067f3"
   },
   "source": [
    "From above, we can see that the data in the histogram is being normally distributed. So I decided to use scaling the variables, so that one does not dominate the other."
   ]
  },
  {
   "cell_type": "code",
   "execution_count": 39,
   "id": "9ccf0965",
   "metadata": {
    "id": "9ccf0965"
   },
   "outputs": [],
   "source": [
    "X = df_ISPU.drop([\"Category\"], axis = 1)"
   ]
  },
  {
   "cell_type": "code",
   "execution_count": 40,
   "id": "64abec10",
   "metadata": {
    "colab": {
     "base_uri": "https://localhost:8080/"
    },
    "id": "64abec10",
    "outputId": "c1cc96c4-601d-4c18-a56f-4c00c801a15b"
   },
   "outputs": [
    {
     "data": {
      "text/plain": [
       "0       1\n",
       "1       1\n",
       "2       1\n",
       "3       1\n",
       "4       1\n",
       "       ..\n",
       "1825    1\n",
       "1826    1\n",
       "1827    1\n",
       "1828    1\n",
       "1829    1\n",
       "Name: Category, Length: 1618, dtype: int32"
      ]
     },
     "execution_count": 40,
     "metadata": {},
     "output_type": "execute_result"
    }
   ],
   "source": [
    "y = df_ISPU.Category\n",
    "y"
   ]
  },
  {
   "cell_type": "markdown",
   "id": "6b1b0d14",
   "metadata": {
    "id": "6b1b0d14"
   },
   "source": [
    "### 5. Model Building"
   ]
  },
  {
   "cell_type": "markdown",
   "id": "cb28722a",
   "metadata": {
    "id": "cb28722a"
   },
   "source": [
    "#### All variables"
   ]
  },
  {
   "cell_type": "code",
   "execution_count": 41,
   "id": "95fa9788",
   "metadata": {
    "id": "95fa9788"
   },
   "outputs": [],
   "source": [
    "X_train, X_test, y_train, y_test = train_test_split(X, y, test_size=0.28, random_state=42)"
   ]
  },
  {
   "cell_type": "code",
   "execution_count": 42,
   "id": "61b0643a",
   "metadata": {
    "colab": {
     "base_uri": "https://localhost:8080/"
    },
    "id": "61b0643a",
    "outputId": "2266026f-da49-4fdf-8cab-e3e940ed879f"
   },
   "outputs": [
    {
     "name": "stdout",
     "output_type": "stream",
     "text": [
      "Counter({3: 801, 1: 798, 2: 797}) Counter({2: 327, 1: 104, 3: 23})\n"
     ]
    }
   ],
   "source": [
    "over_and_under_sample =  imblearn.combine.SMOTETomek(n_jobs = -1, random_state = 42)\n",
    "X_train, y_train = over_and_under_sample.fit_resample(X_train, y_train)\n",
    "\n",
    "counter_train = Counter(y_train)\n",
    "counter_test = Counter(y_test)\n",
    "print(counter_train, counter_test)"
   ]
  },
  {
   "cell_type": "code",
   "execution_count": 43,
   "id": "28bed328",
   "metadata": {
    "colab": {
     "base_uri": "https://localhost:8080/",
     "height": 334
    },
    "id": "28bed328",
    "outputId": "f567f48d-ea2a-44f8-c8a1-d4c63199e71a"
   },
   "outputs": [
    {
     "name": "stdout",
     "output_type": "stream",
     "text": [
      "2    327\n",
      "1    104\n",
      "3     23\n",
      "Name: Category, dtype: int64\n"
     ]
    },
    {
     "data": {
      "image/png": "[encoded data removed]",
      "text/plain": [
       "<Figure size 640x480 with 1 Axes>"
      ]
     },
     "metadata": {},
     "output_type": "display_data"
    }
   ],
   "source": [
    "print(y_test.value_counts())\n",
    "p=y_test.value_counts().plot(kind=\"bar\")"
   ]
  },
  {
   "cell_type": "code",
   "execution_count": 44,
   "id": "06e0d4b0",
   "metadata": {
    "colab": {
     "base_uri": "https://localhost:8080/",
     "height": 334
    },
    "id": "06e0d4b0",
    "outputId": "d8db8fd5-8db7-44fa-bc2e-c8eab3eea5a9"
   },
   "outputs": [
    {
     "name": "stdout",
     "output_type": "stream",
     "text": [
      "3    801\n",
      "1    798\n",
      "2    797\n",
      "Name: Category, dtype: int64\n"
     ]
    },
    {
     "data": {
      "image/png": "[encoded data removed]",
      "text/plain": [
       "<Figure size 640x480 with 1 Axes>"
      ]
     },
     "metadata": {},
     "output_type": "display_data"
    }
   ],
   "source": [
    "print(y_train.value_counts())\n",
    "p=y_train.value_counts().plot(kind=\"bar\")"
   ]
  },
  {
   "cell_type": "markdown",
   "id": "87fc831b",
   "metadata": {
    "id": "87fc831b"
   },
   "source": [
    "dt = DecisionTreeClassifier()\n",
    "dtModel = dt.fit(X_train, y_train)\n",
    "dtPred = dt.predict(X_test)\n",
    "print(classification_report(y_test, dtPred))"
   ]
  },
  {
   "cell_type": "code",
   "execution_count": 45,
   "id": "b1f7b2be",
   "metadata": {
    "colab": {
     "base_uri": "https://localhost:8080/"
    },
    "id": "b1f7b2be",
    "outputId": "83290c9f-5c94-4ea6-ef9e-5c77706ebd89"
   },
   "outputs": [
    {
     "name": "stdout",
     "output_type": "stream",
     "text": [
      "Best Parameters using grid search: \n",
      " {'bootstrap': True, 'criterion': 'gini', 'max_depth': 4, 'max_features': None}\n",
      "              precision    recall  f1-score   support\n",
      "\n",
      "           1       0.94      0.97      0.95       104\n",
      "           2       0.98      0.95      0.97       327\n",
      "           3       0.70      0.91      0.79        23\n",
      "\n",
      "    accuracy                           0.95       454\n",
      "   macro avg       0.87      0.95      0.90       454\n",
      "weighted avg       0.96      0.95      0.96       454\n",
      "\n"
     ]
    }
   ],
   "source": [
    "param_dist = {'max_depth': [2, 3, 4],\n",
    "              'bootstrap': [True, False],\n",
    "              'max_features': ['auto', 'sqrt', 'log2', None],\n",
    "              'criterion': ['gini', 'entropy']}\n",
    "fit_rf = RandomForestClassifier()\n",
    "cv_rf = GridSearchCV(fit_rf, cv = 10, param_grid = param_dist, n_jobs = 3)\n",
    "\n",
    "\n",
    "rfModel = cv_rf.fit(X_train, y_train)\n",
    "print('Best Parameters using grid search: \\n', cv_rf.best_params_)\n",
    "rfPred = cv_rf.predict(X_test)\n",
    "print(classification_report(y_test, rfPred))"
   ]
  },
  {
   "cell_type": "code",
   "execution_count": 46,
   "id": "4985eb9f",
   "metadata": {
    "colab": {
     "base_uri": "https://localhost:8080/"
    },
    "id": "4985eb9f",
    "outputId": "2ac0f737-3571-4f4b-c2c9-745bfde39410"
   },
   "outputs": [
    {
     "data": {
      "text/plain": [
       "RandomForestClassifier(random_state=42)"
      ]
     },
     "execution_count": 46,
     "metadata": {},
     "output_type": "execute_result"
    }
   ],
   "source": [
    "clf = RandomForestClassifier(n_estimators=100, random_state=42)\n",
    "clf.fit(X_train, y_train)"
   ]
  },
  {
   "cell_type": "code",
   "execution_count": 47,
   "id": "57706c06",
   "metadata": {
    "colab": {
     "base_uri": "https://localhost:8080/"
    },
    "id": "57706c06",
    "outputId": "d24fbd42-a95a-451d-b793-3d1ceedc380d"
   },
   "outputs": [
    {
     "data": {
      "text/plain": [
       "O3      0.636443\n",
       "PM10    0.236606\n",
       "SO2     0.063466\n",
       "CO      0.037346\n",
       "NO2     0.026139\n",
       "dtype: float64"
      ]
     },
     "execution_count": 47,
     "metadata": {},
     "output_type": "execute_result"
    }
   ],
   "source": [
    "feature_scores = pd.Series(clf.feature_importances_, index=X_train.columns).sort_values(ascending=False)\n",
    "feature_scores"
   ]
  },
  {
   "cell_type": "code",
   "execution_count": 48,
   "id": "08b30f6f",
   "metadata": {
    "colab": {
     "base_uri": "https://localhost:8080/",
     "height": 301
    },
    "id": "08b30f6f",
    "outputId": "2c20b77f-6dfd-42ef-97e0-2086e6db4b6f"
   },
   "outputs": [
    {
     "data": {
      "image/png": "[encoded data removed]",
      "text/plain": [
       "<Figure size 640x480 with 1 Axes>"
      ]
     },
     "metadata": {},
     "output_type": "display_data"
    }
   ],
   "source": [
    "sns.barplot(x=feature_scores, y=feature_scores.index)\n",
    "plt.xlabel('Feature Importance Score')\n",
    "plt.ylabel('Features')\n",
    "plt.title(\"Visualizing Important Features\")\n",
    "plt.show()"
   ]
  },
  {
   "cell_type": "code",
   "execution_count": null,
   "id": "017105b6",
   "metadata": {
    "id": "017105b6"
   },
   "outputs": [],
   "source": []
  }
 ],
 "metadata": {
  "colab": {
   "provenance": []
  },
  "kernelspec": {
   "display_name": "Python 3 (ipykernel)",
   "language": "python",
   "name": "python3"
  },
  "language_info": {
   "codemirror_mode": {
    "name": "ipython",
    "version": 3
   },
   "file_extension": ".py",
   "mimetype": "text/x-python",
   "name": "python",
   "nbconvert_exporter": "python",
   "pygments_lexer": "ipython3",
   "version": "3.9.13"
  }
 },
 "nbformat": 4,
 "nbformat_minor": 5
}
